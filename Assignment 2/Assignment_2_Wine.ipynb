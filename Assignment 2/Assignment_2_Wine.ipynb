{
  "nbformat": 4,
  "nbformat_minor": 0,
  "metadata": {
    "colab": {
      "name": "Assignment-2 Wine.ipynb",
      "provenance": [],
      "collapsed_sections": [
        "FeJVqKmFIEvl",
        "RE_VtHImIQ5_",
        "3D6WnQ8Kr7B4",
        "BDvlJi6rUKuZ",
        "wx_BhUG8sgQb",
        "M3cqkl4AtESI",
        "9QivxdVQtb3j",
        "vtIHBJ-ztjAa",
        "_DUTZL7PuRBY",
        "uVRjkAJpubp4",
        "5hf2ptivvrm3",
        "P8DpYUr2RB27",
        "6Uq5AA4VSNWk",
        "C__nIR6RUsIp",
        "DKaAxw1Kxzgd",
        "uiwY03Ntxzgi",
        "Rl7vf-Jqxzgq",
        "ly-1m961xzgu",
        "oOgi59I7xzgx",
        "UHu0SjospdlA",
        "4hnlCAb3wnKX"
      ]
    },
    "kernelspec": {
      "name": "python3",
      "display_name": "Python 3"
    },
    "language_info": {
      "name": "python"
    }
  },
  "cells": [
    {
      "cell_type": "markdown",
      "metadata": {
        "id": "nS80NPV1poyG"
      },
      "source": [
        "Name : Zaid Ahmad"
      ]
    },
    {
      "cell_type": "markdown",
      "metadata": {
        "id": "9WzXi_lMpq7n"
      },
      "source": [
        "Roll no : 001811001042"
      ]
    },
    {
      "cell_type": "markdown",
      "metadata": {
        "id": "FeJVqKmFIEvl"
      },
      "source": [
        "#Importing modules"
      ]
    },
    {
      "cell_type": "code",
      "metadata": {
        "id": "51nqEN-mgb3q"
      },
      "source": [
        "import numpy as np\n",
        "import pandas as pd\n",
        "from sklearn import datasets\n",
        "from sklearn.metrics import accuracy_score, classification_report, confusion_matrix\n",
        "from sklearn.model_selection import train_test_split\n",
        "from sklearn.svm import SVC\n",
        "import seaborn as sns\n",
        "from sklearn.neural_network import MLPClassifier\n",
        "from sklearn.ensemble import RandomForestClassifier"
      ],
      "execution_count": null,
      "outputs": []
    },
    {
      "cell_type": "markdown",
      "metadata": {
        "id": "RE_VtHImIQ5_"
      },
      "source": [
        "#Load Dataset"
      ]
    },
    {
      "cell_type": "code",
      "metadata": {
        "id": "QkNPoMXLh_2A"
      },
      "source": [
        "wine = datasets.load_wine() # it's source is same as : https://archive.ics.uci.edu/ml/datasets/wine"
      ],
      "execution_count": null,
      "outputs": []
    },
    {
      "cell_type": "code",
      "metadata": {
        "colab": {
          "base_uri": "https://localhost:8080/"
        },
        "id": "aPEoKXtxiGv2",
        "outputId": "2f317cd4-236c-4c7c-e86e-79fc3763e645"
      },
      "source": [
        "dir(wine)"
      ],
      "execution_count": null,
      "outputs": [
        {
          "output_type": "execute_result",
          "data": {
            "text/plain": [
              "['DESCR', 'data', 'feature_names', 'target', 'target_names']"
            ]
          },
          "metadata": {},
          "execution_count": 3
        }
      ]
    },
    {
      "cell_type": "code",
      "metadata": {
        "colab": {
          "base_uri": "https://localhost:8080/"
        },
        "id": "j_7OPleKiIQK",
        "outputId": "15845bf2-fa74-4912-94c7-c98c3ec64b64"
      },
      "source": [
        "wine.data"
      ],
      "execution_count": null,
      "outputs": [
        {
          "output_type": "execute_result",
          "data": {
            "text/plain": [
              "array([[1.423e+01, 1.710e+00, 2.430e+00, ..., 1.040e+00, 3.920e+00,\n",
              "        1.065e+03],\n",
              "       [1.320e+01, 1.780e+00, 2.140e+00, ..., 1.050e+00, 3.400e+00,\n",
              "        1.050e+03],\n",
              "       [1.316e+01, 2.360e+00, 2.670e+00, ..., 1.030e+00, 3.170e+00,\n",
              "        1.185e+03],\n",
              "       ...,\n",
              "       [1.327e+01, 4.280e+00, 2.260e+00, ..., 5.900e-01, 1.560e+00,\n",
              "        8.350e+02],\n",
              "       [1.317e+01, 2.590e+00, 2.370e+00, ..., 6.000e-01, 1.620e+00,\n",
              "        8.400e+02],\n",
              "       [1.413e+01, 4.100e+00, 2.740e+00, ..., 6.100e-01, 1.600e+00,\n",
              "        5.600e+02]])"
            ]
          },
          "metadata": {},
          "execution_count": 4
        }
      ]
    },
    {
      "cell_type": "code",
      "metadata": {
        "colab": {
          "base_uri": "https://localhost:8080/"
        },
        "id": "mG3kHdhO1H5P",
        "outputId": "51867bd8-de27-41b8-e71c-af54802c82b3"
      },
      "source": [
        "print(wine.feature_names)\n",
        "print(wine.target_names)\n",
        "print(wine.target)"
      ],
      "execution_count": null,
      "outputs": [
        {
          "output_type": "stream",
          "name": "stdout",
          "text": [
            "['alcohol', 'malic_acid', 'ash', 'alcalinity_of_ash', 'magnesium', 'total_phenols', 'flavanoids', 'nonflavanoid_phenols', 'proanthocyanins', 'color_intensity', 'hue', 'od280/od315_of_diluted_wines', 'proline']\n",
            "['class_0' 'class_1' 'class_2']\n",
            "[0 0 0 0 0 0 0 0 0 0 0 0 0 0 0 0 0 0 0 0 0 0 0 0 0 0 0 0 0 0 0 0 0 0 0 0 0\n",
            " 0 0 0 0 0 0 0 0 0 0 0 0 0 0 0 0 0 0 0 0 0 0 1 1 1 1 1 1 1 1 1 1 1 1 1 1 1\n",
            " 1 1 1 1 1 1 1 1 1 1 1 1 1 1 1 1 1 1 1 1 1 1 1 1 1 1 1 1 1 1 1 1 1 1 1 1 1\n",
            " 1 1 1 1 1 1 1 1 1 1 1 1 1 1 1 1 1 1 1 2 2 2 2 2 2 2 2 2 2 2 2 2 2 2 2 2 2\n",
            " 2 2 2 2 2 2 2 2 2 2 2 2 2 2 2 2 2 2 2 2 2 2 2 2 2 2 2 2 2 2]\n"
          ]
        }
      ]
    },
    {
      "cell_type": "code",
      "metadata": {
        "colab": {
          "base_uri": "https://localhost:8080/"
        },
        "id": "4x71_J6liNE5",
        "outputId": "df67122b-1363-4eac-e9b1-104f66886a9c"
      },
      "source": [
        "df = pd.DataFrame(data=wine.data, columns=wine.feature_names)\n",
        "df.head()"
      ],
      "execution_count": null,
      "outputs": [
        {
          "output_type": "execute_result",
          "data": {
            "text/html": [
              "<div>\n",
              "<style scoped>\n",
              "    .dataframe tbody tr th:only-of-type {\n",
              "        vertical-align: middle;\n",
              "    }\n",
              "\n",
              "    .dataframe tbody tr th {\n",
              "        vertical-align: top;\n",
              "    }\n",
              "\n",
              "    .dataframe thead th {\n",
              "        text-align: right;\n",
              "    }\n",
              "</style>\n",
              "<table border=\"1\" class=\"dataframe\">\n",
              "  <thead>\n",
              "    <tr style=\"text-align: right;\">\n",
              "      <th></th>\n",
              "      <th>alcohol</th>\n",
              "      <th>malic_acid</th>\n",
              "      <th>ash</th>\n",
              "      <th>alcalinity_of_ash</th>\n",
              "      <th>magnesium</th>\n",
              "      <th>total_phenols</th>\n",
              "      <th>flavanoids</th>\n",
              "      <th>nonflavanoid_phenols</th>\n",
              "      <th>proanthocyanins</th>\n",
              "      <th>color_intensity</th>\n",
              "      <th>hue</th>\n",
              "      <th>od280/od315_of_diluted_wines</th>\n",
              "      <th>proline</th>\n",
              "    </tr>\n",
              "  </thead>\n",
              "  <tbody>\n",
              "    <tr>\n",
              "      <th>0</th>\n",
              "      <td>14.23</td>\n",
              "      <td>1.71</td>\n",
              "      <td>2.43</td>\n",
              "      <td>15.6</td>\n",
              "      <td>127.0</td>\n",
              "      <td>2.80</td>\n",
              "      <td>3.06</td>\n",
              "      <td>0.28</td>\n",
              "      <td>2.29</td>\n",
              "      <td>5.64</td>\n",
              "      <td>1.04</td>\n",
              "      <td>3.92</td>\n",
              "      <td>1065.0</td>\n",
              "    </tr>\n",
              "    <tr>\n",
              "      <th>1</th>\n",
              "      <td>13.20</td>\n",
              "      <td>1.78</td>\n",
              "      <td>2.14</td>\n",
              "      <td>11.2</td>\n",
              "      <td>100.0</td>\n",
              "      <td>2.65</td>\n",
              "      <td>2.76</td>\n",
              "      <td>0.26</td>\n",
              "      <td>1.28</td>\n",
              "      <td>4.38</td>\n",
              "      <td>1.05</td>\n",
              "      <td>3.40</td>\n",
              "      <td>1050.0</td>\n",
              "    </tr>\n",
              "    <tr>\n",
              "      <th>2</th>\n",
              "      <td>13.16</td>\n",
              "      <td>2.36</td>\n",
              "      <td>2.67</td>\n",
              "      <td>18.6</td>\n",
              "      <td>101.0</td>\n",
              "      <td>2.80</td>\n",
              "      <td>3.24</td>\n",
              "      <td>0.30</td>\n",
              "      <td>2.81</td>\n",
              "      <td>5.68</td>\n",
              "      <td>1.03</td>\n",
              "      <td>3.17</td>\n",
              "      <td>1185.0</td>\n",
              "    </tr>\n",
              "    <tr>\n",
              "      <th>3</th>\n",
              "      <td>14.37</td>\n",
              "      <td>1.95</td>\n",
              "      <td>2.50</td>\n",
              "      <td>16.8</td>\n",
              "      <td>113.0</td>\n",
              "      <td>3.85</td>\n",
              "      <td>3.49</td>\n",
              "      <td>0.24</td>\n",
              "      <td>2.18</td>\n",
              "      <td>7.80</td>\n",
              "      <td>0.86</td>\n",
              "      <td>3.45</td>\n",
              "      <td>1480.0</td>\n",
              "    </tr>\n",
              "    <tr>\n",
              "      <th>4</th>\n",
              "      <td>13.24</td>\n",
              "      <td>2.59</td>\n",
              "      <td>2.87</td>\n",
              "      <td>21.0</td>\n",
              "      <td>118.0</td>\n",
              "      <td>2.80</td>\n",
              "      <td>2.69</td>\n",
              "      <td>0.39</td>\n",
              "      <td>1.82</td>\n",
              "      <td>4.32</td>\n",
              "      <td>1.04</td>\n",
              "      <td>2.93</td>\n",
              "      <td>735.0</td>\n",
              "    </tr>\n",
              "  </tbody>\n",
              "</table>\n",
              "</div>"
            ],
            "text/plain": [
              "   alcohol  malic_acid   ash  ...   hue  od280/od315_of_diluted_wines  proline\n",
              "0    14.23        1.71  2.43  ...  1.04                          3.92   1065.0\n",
              "1    13.20        1.78  2.14  ...  1.05                          3.40   1050.0\n",
              "2    13.16        2.36  2.67  ...  1.03                          3.17   1185.0\n",
              "3    14.37        1.95  2.50  ...  0.86                          3.45   1480.0\n",
              "4    13.24        2.59  2.87  ...  1.04                          2.93    735.0\n",
              "\n",
              "[5 rows x 13 columns]"
            ]
          },
          "metadata": {},
          "execution_count": 6
        }
      ]
    },
    {
      "cell_type": "code",
      "metadata": {
        "colab": {
          "base_uri": "https://localhost:8080/"
        },
        "id": "lOhIc_cLinNP",
        "outputId": "83a36fc7-7565-4fdd-9e61-69329768ea12"
      },
      "source": [
        "df[\"target\"] = wine.target\n",
        "df.head()"
      ],
      "execution_count": null,
      "outputs": [
        {
          "output_type": "execute_result",
          "data": {
            "text/html": [
              "<div>\n",
              "<style scoped>\n",
              "    .dataframe tbody tr th:only-of-type {\n",
              "        vertical-align: middle;\n",
              "    }\n",
              "\n",
              "    .dataframe tbody tr th {\n",
              "        vertical-align: top;\n",
              "    }\n",
              "\n",
              "    .dataframe thead th {\n",
              "        text-align: right;\n",
              "    }\n",
              "</style>\n",
              "<table border=\"1\" class=\"dataframe\">\n",
              "  <thead>\n",
              "    <tr style=\"text-align: right;\">\n",
              "      <th></th>\n",
              "      <th>alcohol</th>\n",
              "      <th>malic_acid</th>\n",
              "      <th>ash</th>\n",
              "      <th>alcalinity_of_ash</th>\n",
              "      <th>magnesium</th>\n",
              "      <th>total_phenols</th>\n",
              "      <th>flavanoids</th>\n",
              "      <th>nonflavanoid_phenols</th>\n",
              "      <th>proanthocyanins</th>\n",
              "      <th>color_intensity</th>\n",
              "      <th>hue</th>\n",
              "      <th>od280/od315_of_diluted_wines</th>\n",
              "      <th>proline</th>\n",
              "      <th>target</th>\n",
              "    </tr>\n",
              "  </thead>\n",
              "  <tbody>\n",
              "    <tr>\n",
              "      <th>0</th>\n",
              "      <td>14.23</td>\n",
              "      <td>1.71</td>\n",
              "      <td>2.43</td>\n",
              "      <td>15.6</td>\n",
              "      <td>127.0</td>\n",
              "      <td>2.80</td>\n",
              "      <td>3.06</td>\n",
              "      <td>0.28</td>\n",
              "      <td>2.29</td>\n",
              "      <td>5.64</td>\n",
              "      <td>1.04</td>\n",
              "      <td>3.92</td>\n",
              "      <td>1065.0</td>\n",
              "      <td>0</td>\n",
              "    </tr>\n",
              "    <tr>\n",
              "      <th>1</th>\n",
              "      <td>13.20</td>\n",
              "      <td>1.78</td>\n",
              "      <td>2.14</td>\n",
              "      <td>11.2</td>\n",
              "      <td>100.0</td>\n",
              "      <td>2.65</td>\n",
              "      <td>2.76</td>\n",
              "      <td>0.26</td>\n",
              "      <td>1.28</td>\n",
              "      <td>4.38</td>\n",
              "      <td>1.05</td>\n",
              "      <td>3.40</td>\n",
              "      <td>1050.0</td>\n",
              "      <td>0</td>\n",
              "    </tr>\n",
              "    <tr>\n",
              "      <th>2</th>\n",
              "      <td>13.16</td>\n",
              "      <td>2.36</td>\n",
              "      <td>2.67</td>\n",
              "      <td>18.6</td>\n",
              "      <td>101.0</td>\n",
              "      <td>2.80</td>\n",
              "      <td>3.24</td>\n",
              "      <td>0.30</td>\n",
              "      <td>2.81</td>\n",
              "      <td>5.68</td>\n",
              "      <td>1.03</td>\n",
              "      <td>3.17</td>\n",
              "      <td>1185.0</td>\n",
              "      <td>0</td>\n",
              "    </tr>\n",
              "    <tr>\n",
              "      <th>3</th>\n",
              "      <td>14.37</td>\n",
              "      <td>1.95</td>\n",
              "      <td>2.50</td>\n",
              "      <td>16.8</td>\n",
              "      <td>113.0</td>\n",
              "      <td>3.85</td>\n",
              "      <td>3.49</td>\n",
              "      <td>0.24</td>\n",
              "      <td>2.18</td>\n",
              "      <td>7.80</td>\n",
              "      <td>0.86</td>\n",
              "      <td>3.45</td>\n",
              "      <td>1480.0</td>\n",
              "      <td>0</td>\n",
              "    </tr>\n",
              "    <tr>\n",
              "      <th>4</th>\n",
              "      <td>13.24</td>\n",
              "      <td>2.59</td>\n",
              "      <td>2.87</td>\n",
              "      <td>21.0</td>\n",
              "      <td>118.0</td>\n",
              "      <td>2.80</td>\n",
              "      <td>2.69</td>\n",
              "      <td>0.39</td>\n",
              "      <td>1.82</td>\n",
              "      <td>4.32</td>\n",
              "      <td>1.04</td>\n",
              "      <td>2.93</td>\n",
              "      <td>735.0</td>\n",
              "      <td>0</td>\n",
              "    </tr>\n",
              "  </tbody>\n",
              "</table>\n",
              "</div>"
            ],
            "text/plain": [
              "   alcohol  malic_acid   ash  ...  od280/od315_of_diluted_wines  proline  target\n",
              "0    14.23        1.71  2.43  ...                          3.92   1065.0       0\n",
              "1    13.20        1.78  2.14  ...                          3.40   1050.0       0\n",
              "2    13.16        2.36  2.67  ...                          3.17   1185.0       0\n",
              "3    14.37        1.95  2.50  ...                          3.45   1480.0       0\n",
              "4    13.24        2.59  2.87  ...                          2.93    735.0       0\n",
              "\n",
              "[5 rows x 14 columns]"
            ]
          },
          "metadata": {},
          "execution_count": 7
        }
      ]
    },
    {
      "cell_type": "code",
      "metadata": {
        "colab": {
          "base_uri": "https://localhost:8080/"
        },
        "id": "OyyOszoqjD32",
        "outputId": "f0d26a3e-7e5e-42f3-95d4-e4e9ba8aa8a0"
      },
      "source": [
        "wine.target_names"
      ],
      "execution_count": null,
      "outputs": [
        {
          "output_type": "execute_result",
          "data": {
            "text/plain": [
              "array(['class_0', 'class_1', 'class_2'], dtype='<U7')"
            ]
          },
          "metadata": {},
          "execution_count": 8
        }
      ]
    },
    {
      "cell_type": "markdown",
      "metadata": {
        "id": "3D6WnQ8Kr7B4"
      },
      "source": [
        "#DataFrame ready to perform"
      ]
    },
    {
      "cell_type": "code",
      "metadata": {
        "colab": {
          "base_uri": "https://localhost:8080/"
        },
        "id": "6uSnH9iFjjSX",
        "outputId": "83e562fd-7245-43a7-e7e7-baa199ab89a5"
      },
      "source": [
        "len(df)"
      ],
      "execution_count": null,
      "outputs": [
        {
          "output_type": "execute_result",
          "data": {
            "text/plain": [
              "178"
            ]
          },
          "metadata": {},
          "execution_count": 9
        }
      ]
    },
    {
      "cell_type": "code",
      "metadata": {
        "colab": {
          "base_uri": "https://localhost:8080/"
        },
        "id": "CQeu9fqLkHHm",
        "outputId": "4d98d9e5-ae00-4ae8-8369-67fde35f51ef"
      },
      "source": [
        "X = df.drop([\"target\"], axis=\"columns\")\n",
        "y = df.target\n",
        "print(X.head())\n",
        "print(y.head())"
      ],
      "execution_count": null,
      "outputs": [
        {
          "output_type": "stream",
          "name": "stdout",
          "text": [
            "   alcohol  malic_acid   ash  ...   hue  od280/od315_of_diluted_wines  proline\n",
            "0    14.23        1.71  2.43  ...  1.04                          3.92   1065.0\n",
            "1    13.20        1.78  2.14  ...  1.05                          3.40   1050.0\n",
            "2    13.16        2.36  2.67  ...  1.03                          3.17   1185.0\n",
            "3    14.37        1.95  2.50  ...  0.86                          3.45   1480.0\n",
            "4    13.24        2.59  2.87  ...  1.04                          2.93    735.0\n",
            "\n",
            "[5 rows x 13 columns]\n",
            "0    0\n",
            "1    0\n",
            "2    0\n",
            "3    0\n",
            "4    0\n",
            "Name: target, dtype: int64\n"
          ]
        }
      ]
    },
    {
      "cell_type": "markdown",
      "metadata": {
        "id": "BDvlJi6rUKuZ"
      },
      "source": [
        "#SVC Classfier"
      ]
    },
    {
      "cell_type": "markdown",
      "metadata": {
        "id": "wx_BhUG8sgQb"
      },
      "source": [
        "##Linear SVC Classifier\n",
        "\n"
      ]
    },
    {
      "cell_type": "code",
      "metadata": {
        "colab": {
          "base_uri": "https://localhost:8080/"
        },
        "id": "ie3pZJgqlcGV",
        "outputId": "0eb88980-d1a1-49d1-cf34-5e389caf0597"
      },
      "source": [
        "linear_SVC_classifier = SVC(kernel='linear')\n",
        "linear_SVC_classifier"
      ],
      "execution_count": null,
      "outputs": [
        {
          "output_type": "execute_result",
          "data": {
            "text/plain": [
              "SVC(C=1.0, break_ties=False, cache_size=200, class_weight=None, coef0=0.0,\n",
              "    decision_function_shape='ovr', degree=3, gamma='scale', kernel='linear',\n",
              "    max_iter=-1, probability=False, random_state=None, shrinking=True,\n",
              "    tol=0.001, verbose=False)"
            ]
          },
          "metadata": {},
          "execution_count": 11
        }
      ]
    },
    {
      "cell_type": "markdown",
      "metadata": {
        "id": "M3cqkl4AtESI"
      },
      "source": [
        "###train size : test size = 70% : 30%\n"
      ]
    },
    {
      "cell_type": "code",
      "metadata": {
        "id": "xXVR31Lkk7JZ"
      },
      "source": [
        "X_train, X_test, y_train, y_test = train_test_split(X, y, test_size=0.3, random_state=0)    # 70% training data, 30% testing data"
      ],
      "execution_count": null,
      "outputs": []
    },
    {
      "cell_type": "code",
      "metadata": {
        "colab": {
          "base_uri": "https://localhost:8080/"
        },
        "id": "FLCBqsaBlWHr",
        "outputId": "17820aca-0fc5-45ac-98ec-16830b5bf398"
      },
      "source": [
        "print(len(X_train))\n",
        "print(len(y_test))"
      ],
      "execution_count": null,
      "outputs": [
        {
          "output_type": "stream",
          "name": "stdout",
          "text": [
            "124\n",
            "54\n"
          ]
        }
      ]
    },
    {
      "cell_type": "code",
      "metadata": {
        "colab": {
          "base_uri": "https://localhost:8080/"
        },
        "id": "1gq0fvQBmh2p",
        "outputId": "3c9e99d5-4527-42dd-866c-9edff7306ec1"
      },
      "source": [
        "linear_SVC_classifier.fit(X_train, y_train)"
      ],
      "execution_count": null,
      "outputs": [
        {
          "output_type": "execute_result",
          "data": {
            "text/plain": [
              "SVC(C=1.0, break_ties=False, cache_size=200, class_weight=None, coef0=0.0,\n",
              "    decision_function_shape='ovr', degree=3, gamma='scale', kernel='linear',\n",
              "    max_iter=-1, probability=False, random_state=None, shrinking=True,\n",
              "    tol=0.001, verbose=False)"
            ]
          },
          "metadata": {},
          "execution_count": 14
        }
      ]
    },
    {
      "cell_type": "code",
      "metadata": {
        "colab": {
          "base_uri": "https://localhost:8080/"
        },
        "id": "s6S_eIUyoA2B",
        "outputId": "acad0dc3-9366-44f2-eb12-c1653a721a56"
      },
      "source": [
        "y_pred = linear_SVC_classifier.predict(X_test)\n",
        "print(f\"Accuracy: {100 * accuracy_score(y_test,y_pred)}%\\n\")\n",
        "cf_matrix = confusion_matrix(y_test,y_pred)\n",
        "print(\"Confusion Matrix:\\n\")\n",
        "print(cf_matrix)\n",
        "print(\"\\nClassification Report:\\n\")\n",
        "print(classification_report(y_test,y_pred))"
      ],
      "execution_count": null,
      "outputs": [
        {
          "output_type": "stream",
          "name": "stdout",
          "text": [
            "Accuracy: 98.14814814814815%\n",
            "\n",
            "Confusion Matrix:\n",
            "\n",
            "[[19  0  0]\n",
            " [ 0 21  1]\n",
            " [ 0  0 13]]\n",
            "\n",
            "Classification Report:\n",
            "\n",
            "              precision    recall  f1-score   support\n",
            "\n",
            "           0       1.00      1.00      1.00        19\n",
            "           1       1.00      0.95      0.98        22\n",
            "           2       0.93      1.00      0.96        13\n",
            "\n",
            "    accuracy                           0.98        54\n",
            "   macro avg       0.98      0.98      0.98        54\n",
            "weighted avg       0.98      0.98      0.98        54\n",
            "\n"
          ]
        }
      ]
    },
    {
      "cell_type": "code",
      "metadata": {
        "colab": {
          "base_uri": "https://localhost:8080/"
        },
        "id": "y40DvjlRIxnM",
        "outputId": "7e15e412-1ceb-47f1-d0a8-492ef2a0f4c8"
      },
      "source": [
        "sns.heatmap(cf_matrix, annot=True)"
      ],
      "execution_count": null,
      "outputs": [
        {
          "output_type": "execute_result",
          "data": {
            "text/plain": [
              "<matplotlib.axes._subplots.AxesSubplot at 0x7f5e43120550>"
            ]
          },
          "metadata": {},
          "execution_count": 16
        },
        {
          "output_type": "display_data",
          "data": {
            "image/png": "[encoded data removed]",
            "text/plain": [
              "<Figure size 432x288 with 2 Axes>"
            ]
          },
          "metadata": {
            "needs_background": "light"
          }
        }
      ]
    },
    {
      "cell_type": "markdown",
      "metadata": {
        "id": "9QivxdVQtb3j"
      },
      "source": [
        "###train size : test size = 60% : 40%"
      ]
    },
    {
      "cell_type": "code",
      "metadata": {
        "id": "byTYsnjkoeE7"
      },
      "source": [
        "X_train, X_test, y_train, y_test = train_test_split(X, y, test_size=0.4, random_state=0)    # 60% training data, 40% testing data"
      ],
      "execution_count": null,
      "outputs": []
    },
    {
      "cell_type": "code",
      "metadata": {
        "colab": {
          "base_uri": "https://localhost:8080/"
        },
        "id": "xX2Lhz1YqsxO",
        "outputId": "ca224981-c371-4dc5-9bbb-be82e9748795"
      },
      "source": [
        "print(len(X_train))\n",
        "print(len(y_test))"
      ],
      "execution_count": null,
      "outputs": [
        {
          "output_type": "stream",
          "name": "stdout",
          "text": [
            "106\n",
            "72\n"
          ]
        }
      ]
    },
    {
      "cell_type": "code",
      "metadata": {
        "colab": {
          "base_uri": "https://localhost:8080/"
        },
        "id": "bxdC6K2yq2Fc",
        "outputId": "4ceae777-0663-483f-ca2c-693f7d7d83d2"
      },
      "source": [
        "linear_SVC_classifier.fit(X_train, y_train)"
      ],
      "execution_count": null,
      "outputs": [
        {
          "output_type": "execute_result",
          "data": {
            "text/plain": [
              "SVC(C=1.0, break_ties=False, cache_size=200, class_weight=None, coef0=0.0,\n",
              "    decision_function_shape='ovr', degree=3, gamma='scale', kernel='linear',\n",
              "    max_iter=-1, probability=False, random_state=None, shrinking=True,\n",
              "    tol=0.001, verbose=False)"
            ]
          },
          "metadata": {},
          "execution_count": 19
        }
      ]
    },
    {
      "cell_type": "code",
      "metadata": {
        "colab": {
          "base_uri": "https://localhost:8080/"
        },
        "id": "lW82hDkIrBB0",
        "outputId": "04188af4-cb38-4c14-de8c-4d9e51dba9d4"
      },
      "source": [
        "y_pred = linear_SVC_classifier.predict(X_test)\n",
        "print(f\"Accuracy: {100 * accuracy_score(y_test,y_pred)}%\\n\")\n",
        "cf_matrix = confusion_matrix(y_test,y_pred)\n",
        "print(\"Confusion Matrix:\")\n",
        "print(cf_matrix)\n",
        "print(\"\\nClassification Report:\\n\")\n",
        "print(classification_report(y_test,y_pred))"
      ],
      "execution_count": null,
      "outputs": [
        {
          "output_type": "stream",
          "name": "stdout",
          "text": [
            "Accuracy: 95.83333333333334%\n",
            "\n",
            "Confusion Matrix:\n",
            "[[22  0  0]\n",
            " [ 0 28  3]\n",
            " [ 0  0 19]]\n",
            "\n",
            "Classification Report:\n",
            "\n",
            "              precision    recall  f1-score   support\n",
            "\n",
            "           0       1.00      1.00      1.00        22\n",
            "           1       1.00      0.90      0.95        31\n",
            "           2       0.86      1.00      0.93        19\n",
            "\n",
            "    accuracy                           0.96        72\n",
            "   macro avg       0.95      0.97      0.96        72\n",
            "weighted avg       0.96      0.96      0.96        72\n",
            "\n"
          ]
        }
      ]
    },
    {
      "cell_type": "code",
      "metadata": {
        "colab": {
          "base_uri": "https://localhost:8080/"
        },
        "id": "qq177Be9JfUx",
        "outputId": "20ef1e3c-c1bb-413b-86de-aafe2b8ce11e"
      },
      "source": [
        "sns.heatmap(cf_matrix, annot=True)"
      ],
      "execution_count": null,
      "outputs": [
        {
          "output_type": "execute_result",
          "data": {
            "text/plain": [
              "<matplotlib.axes._subplots.AxesSubplot at 0x7f5e20c82a50>"
            ]
          },
          "metadata": {},
          "execution_count": 21
        },
        {
          "output_type": "display_data",
          "data": {
            "image/png": "[encoded data removed]",
            "text/plain": [
              "<Figure size 432x288 with 2 Axes>"
            ]
          },
          "metadata": {
            "needs_background": "light"
          }
        }
      ]
    },
    {
      "cell_type": "markdown",
      "metadata": {
        "id": "vtIHBJ-ztjAa"
      },
      "source": [
        "###train size : test size = 50% : 50%"
      ]
    },
    {
      "cell_type": "code",
      "metadata": {
        "id": "AWnKUAbFrIrg"
      },
      "source": [
        "X_train, X_test, y_train, y_test = train_test_split(X, y, test_size=0.5, random_state=0)    # 50% training data, 50% testing data"
      ],
      "execution_count": null,
      "outputs": []
    },
    {
      "cell_type": "code",
      "metadata": {
        "colab": {
          "base_uri": "https://localhost:8080/"
        },
        "id": "1gqMQLX5rVWJ",
        "outputId": "e06bab85-57ff-4f59-e1e6-2f28f06c4938"
      },
      "source": [
        "print(len(X_train))\n",
        "print(len(y_test))"
      ],
      "execution_count": null,
      "outputs": [
        {
          "output_type": "stream",
          "name": "stdout",
          "text": [
            "89\n",
            "89\n"
          ]
        }
      ]
    },
    {
      "cell_type": "code",
      "metadata": {
        "colab": {
          "base_uri": "https://localhost:8080/"
        },
        "id": "CLh08xzDrZK7",
        "outputId": "6d438bf5-b584-4a47-88a8-35c966799e86"
      },
      "source": [
        "linear_SVC_classifier.fit(X_train, y_train)"
      ],
      "execution_count": null,
      "outputs": [
        {
          "output_type": "execute_result",
          "data": {
            "text/plain": [
              "SVC(C=1.0, break_ties=False, cache_size=200, class_weight=None, coef0=0.0,\n",
              "    decision_function_shape='ovr', degree=3, gamma='scale', kernel='linear',\n",
              "    max_iter=-1, probability=False, random_state=None, shrinking=True,\n",
              "    tol=0.001, verbose=False)"
            ]
          },
          "metadata": {},
          "execution_count": 24
        }
      ]
    },
    {
      "cell_type": "code",
      "metadata": {
        "colab": {
          "base_uri": "https://localhost:8080/"
        },
        "id": "RjxYX9AxrcCe",
        "outputId": "f5d37e54-4e5f-4296-e1c1-36bc7959345d"
      },
      "source": [
        "y_pred = linear_SVC_classifier.predict(X_test)\n",
        "print(f\"Accuracy: {100 * accuracy_score(y_test,y_pred)}%\\n\")\n",
        "cf_matrix = confusion_matrix(y_test,y_pred)\n",
        "print(\"Confusion Matrix:\")\n",
        "print(cf_matrix)\n",
        "print(\"\\nClassification Report:\\n\")\n",
        "print(classification_report(y_test,y_pred))"
      ],
      "execution_count": null,
      "outputs": [
        {
          "output_type": "stream",
          "name": "stdout",
          "text": [
            "Accuracy: 92.13483146067416%\n",
            "\n",
            "Confusion Matrix:\n",
            "[[25  0  0]\n",
            " [ 3 34  3]\n",
            " [ 1  0 23]]\n",
            "\n",
            "Classification Report:\n",
            "\n",
            "              precision    recall  f1-score   support\n",
            "\n",
            "           0       0.86      1.00      0.93        25\n",
            "           1       1.00      0.85      0.92        40\n",
            "           2       0.88      0.96      0.92        24\n",
            "\n",
            "    accuracy                           0.92        89\n",
            "   macro avg       0.92      0.94      0.92        89\n",
            "weighted avg       0.93      0.92      0.92        89\n",
            "\n"
          ]
        }
      ]
    },
    {
      "cell_type": "code",
      "metadata": {
        "colab": {
          "base_uri": "https://localhost:8080/"
        },
        "id": "kir1mpavJwPF",
        "outputId": "7c1d8dd8-010b-472b-a47b-7c24572994b5"
      },
      "source": [
        "sns.heatmap(cf_matrix, annot=True)"
      ],
      "execution_count": null,
      "outputs": [
        {
          "output_type": "execute_result",
          "data": {
            "text/plain": [
              "<matplotlib.axes._subplots.AxesSubplot at 0x7f5e20c2b590>"
            ]
          },
          "metadata": {},
          "execution_count": 26
        },
        {
          "output_type": "display_data",
          "data": {
            "image/png": "[encoded data removed]",
            "text/plain": [
              "<Figure size 432x288 with 2 Axes>"
            ]
          },
          "metadata": {
            "needs_background": "light"
          }
        }
      ]
    },
    {
      "cell_type": "markdown",
      "metadata": {
        "id": "_DUTZL7PuRBY"
      },
      "source": [
        "###train size : test size = 40% : 60%"
      ]
    },
    {
      "cell_type": "code",
      "metadata": {
        "id": "3Qg-IL-ore12"
      },
      "source": [
        "X_train, X_test, y_train, y_test = train_test_split(X, y, test_size=0.6, random_state=0)"
      ],
      "execution_count": null,
      "outputs": []
    },
    {
      "cell_type": "code",
      "metadata": {
        "colab": {
          "base_uri": "https://localhost:8080/"
        },
        "id": "awDsuvs6u3qi",
        "outputId": "48aacd66-b567-4934-eaa1-1f3324f0f664"
      },
      "source": [
        "print(len(X_train))\n",
        "print(len(y_test))"
      ],
      "execution_count": null,
      "outputs": [
        {
          "output_type": "stream",
          "name": "stdout",
          "text": [
            "71\n",
            "107\n"
          ]
        }
      ]
    },
    {
      "cell_type": "code",
      "metadata": {
        "colab": {
          "base_uri": "https://localhost:8080/"
        },
        "id": "7UY094g0u5Fa",
        "outputId": "2402ea79-e2ea-4be0-eea2-c9bf5f0fcdd9"
      },
      "source": [
        "linear_SVC_classifier.fit(X_train, y_train)"
      ],
      "execution_count": null,
      "outputs": [
        {
          "output_type": "execute_result",
          "data": {
            "text/plain": [
              "SVC(C=1.0, break_ties=False, cache_size=200, class_weight=None, coef0=0.0,\n",
              "    decision_function_shape='ovr', degree=3, gamma='scale', kernel='linear',\n",
              "    max_iter=-1, probability=False, random_state=None, shrinking=True,\n",
              "    tol=0.001, verbose=False)"
            ]
          },
          "metadata": {},
          "execution_count": 29
        }
      ]
    },
    {
      "cell_type": "code",
      "metadata": {
        "colab": {
          "base_uri": "https://localhost:8080/"
        },
        "id": "ndqXoRb5u5eN",
        "outputId": "ab1ed878-2c28-43fe-e647-ed06ad2571b9"
      },
      "source": [
        "y_pred = linear_SVC_classifier.predict(X_test)\n",
        "print(f\"Accuracy: {100 * accuracy_score(y_test,y_pred)}%\\n\")\n",
        "cf_matrix = confusion_matrix(y_test,y_pred)\n",
        "print(\"Confusion Matrix:\\n\")\n",
        "print(cf_matrix)\n",
        "print(\"\\nClassification Report:\\n\")\n",
        "print(classification_report(y_test,y_pred))"
      ],
      "execution_count": null,
      "outputs": [
        {
          "output_type": "stream",
          "name": "stdout",
          "text": [
            "Accuracy: 88.78504672897196%\n",
            "\n",
            "Confusion Matrix:\n",
            "\n",
            "[[34  0  0]\n",
            " [ 4 38  4]\n",
            " [ 4  0 23]]\n",
            "\n",
            "Classification Report:\n",
            "\n",
            "              precision    recall  f1-score   support\n",
            "\n",
            "           0       0.81      1.00      0.89        34\n",
            "           1       1.00      0.83      0.90        46\n",
            "           2       0.85      0.85      0.85        27\n",
            "\n",
            "    accuracy                           0.89       107\n",
            "   macro avg       0.89      0.89      0.88       107\n",
            "weighted avg       0.90      0.89      0.89       107\n",
            "\n"
          ]
        }
      ]
    },
    {
      "cell_type": "code",
      "metadata": {
        "colab": {
          "base_uri": "https://localhost:8080/"
        },
        "id": "OKBSumWNJ-_N",
        "outputId": "ef569856-48d3-405c-9cbb-e5abcd8dd33c"
      },
      "source": [
        "sns.heatmap(cf_matrix, annot=True)"
      ],
      "execution_count": null,
      "outputs": [
        {
          "output_type": "execute_result",
          "data": {
            "text/plain": [
              "<matplotlib.axes._subplots.AxesSubplot at 0x7f5e20b034d0>"
            ]
          },
          "metadata": {},
          "execution_count": 31
        },
        {
          "output_type": "display_data",
          "data": {
            "image/png": "[encoded data removed]",
            "text/plain": [
              "<Figure size 432x288 with 2 Axes>"
            ]
          },
          "metadata": {
            "needs_background": "light"
          }
        }
      ]
    },
    {
      "cell_type": "markdown",
      "metadata": {
        "id": "uVRjkAJpubp4"
      },
      "source": [
        "###train size : test size = 30% : 70%"
      ]
    },
    {
      "cell_type": "code",
      "metadata": {
        "id": "hXJjbLzzufUe"
      },
      "source": [
        "X_train, X_test, y_train, y_test = train_test_split(X, y, test_size=0.7, random_state=0)"
      ],
      "execution_count": null,
      "outputs": []
    },
    {
      "cell_type": "code",
      "metadata": {
        "colab": {
          "base_uri": "https://localhost:8080/"
        },
        "id": "vg0wRwNAvIOv",
        "outputId": "a0e77b81-f009-4b8c-fd87-eb9de9ae3fea"
      },
      "source": [
        "print(len(X_train))\n",
        "print(len(y_test))"
      ],
      "execution_count": null,
      "outputs": [
        {
          "output_type": "stream",
          "name": "stdout",
          "text": [
            "53\n",
            "125\n"
          ]
        }
      ]
    },
    {
      "cell_type": "code",
      "metadata": {
        "colab": {
          "base_uri": "https://localhost:8080/"
        },
        "id": "tIbcruvzvKS4",
        "outputId": "87c6e6e0-c721-4780-cc4b-0ebcc183478b"
      },
      "source": [
        "linear_SVC_classifier.fit(X_train, y_train)"
      ],
      "execution_count": null,
      "outputs": [
        {
          "output_type": "execute_result",
          "data": {
            "text/plain": [
              "SVC(C=1.0, break_ties=False, cache_size=200, class_weight=None, coef0=0.0,\n",
              "    decision_function_shape='ovr', degree=3, gamma='scale', kernel='linear',\n",
              "    max_iter=-1, probability=False, random_state=None, shrinking=True,\n",
              "    tol=0.001, verbose=False)"
            ]
          },
          "metadata": {},
          "execution_count": 34
        }
      ]
    },
    {
      "cell_type": "code",
      "metadata": {
        "colab": {
          "base_uri": "https://localhost:8080/"
        },
        "id": "hMVVnNiHvNWU",
        "outputId": "d657e27a-dab2-4eac-d5c4-e5fb762913f9"
      },
      "source": [
        "y_pred = linear_SVC_classifier.predict(X_test)\n",
        "print(f\"Accuracy: {100 * accuracy_score(y_test,y_pred)}%\\n\")\n",
        "cf_matrix = confusion_matrix(y_test,y_pred)\n",
        "print(\"Confusion Matrix:\\n\")\n",
        "print(cf_matrix)\n",
        "print(\"\\nClassification Report:\\n\")\n",
        "print(classification_report(y_test,y_pred))"
      ],
      "execution_count": null,
      "outputs": [
        {
          "output_type": "stream",
          "name": "stdout",
          "text": [
            "Accuracy: 88.0%\n",
            "\n",
            "Confusion Matrix:\n",
            "\n",
            "[[41  1  0]\n",
            " [ 5 44  3]\n",
            " [ 5  1 25]]\n",
            "\n",
            "Classification Report:\n",
            "\n",
            "              precision    recall  f1-score   support\n",
            "\n",
            "           0       0.80      0.98      0.88        42\n",
            "           1       0.96      0.85      0.90        52\n",
            "           2       0.89      0.81      0.85        31\n",
            "\n",
            "    accuracy                           0.88       125\n",
            "   macro avg       0.88      0.88      0.88       125\n",
            "weighted avg       0.89      0.88      0.88       125\n",
            "\n"
          ]
        }
      ]
    },
    {
      "cell_type": "code",
      "metadata": {
        "colab": {
          "base_uri": "https://localhost:8080/"
        },
        "id": "L4hpwH1mKLaB",
        "outputId": "3ecbfbbd-7210-4a8f-976f-31279ed98650"
      },
      "source": [
        "sns.heatmap(cf_matrix, annot=True)"
      ],
      "execution_count": null,
      "outputs": [
        {
          "output_type": "execute_result",
          "data": {
            "text/plain": [
              "<matplotlib.axes._subplots.AxesSubplot at 0x7f5e20a402d0>"
            ]
          },
          "metadata": {},
          "execution_count": 36
        },
        {
          "output_type": "display_data",
          "data": {
            "image/png": "[encoded data removed]",
            "text/plain": [
              "<Figure size 432x288 with 2 Axes>"
            ]
          },
          "metadata": {
            "needs_background": "light"
          }
        }
      ]
    },
    {
      "cell_type": "markdown",
      "metadata": {
        "id": "5hf2ptivvrm3"
      },
      "source": [
        "##Polynomial SVC Classifier"
      ]
    },
    {
      "cell_type": "code",
      "metadata": {
        "colab": {
          "base_uri": "https://localhost:8080/"
        },
        "id": "ijDDu4I8vxSx",
        "outputId": "b44ad335-8a00-4157-c539-6211103f820e"
      },
      "source": [
        "poly_SVC_classifier = SVC(kernel='poly')\n",
        "poly_SVC_classifier"
      ],
      "execution_count": null,
      "outputs": [
        {
          "output_type": "execute_result",
          "data": {
            "text/plain": [
              "SVC(C=1.0, break_ties=False, cache_size=200, class_weight=None, coef0=0.0,\n",
              "    decision_function_shape='ovr', degree=3, gamma='scale', kernel='poly',\n",
              "    max_iter=-1, probability=False, random_state=None, shrinking=True,\n",
              "    tol=0.001, verbose=False)"
            ]
          },
          "metadata": {},
          "execution_count": 37
        }
      ]
    },
    {
      "cell_type": "markdown",
      "metadata": {
        "id": "xdzH5e34KrlH"
      },
      "source": [
        "###train size : test size = 70% : 30%"
      ]
    },
    {
      "cell_type": "code",
      "metadata": {
        "id": "cDqmyEsGwBqH"
      },
      "source": [
        "X_train, X_test, y_train, y_test = train_test_split(X, y, test_size=0.3, random_state=0)"
      ],
      "execution_count": null,
      "outputs": []
    },
    {
      "cell_type": "code",
      "metadata": {
        "colab": {
          "base_uri": "https://localhost:8080/"
        },
        "id": "jKQr6npgwdz_",
        "outputId": "535c9547-4d7c-462b-cec1-0ff6b1bac704"
      },
      "source": [
        "print(len(X_train))\n",
        "print(len(y_test))"
      ],
      "execution_count": null,
      "outputs": [
        {
          "output_type": "stream",
          "name": "stdout",
          "text": [
            "124\n",
            "54\n"
          ]
        }
      ]
    },
    {
      "cell_type": "code",
      "metadata": {
        "colab": {
          "base_uri": "https://localhost:8080/"
        },
        "id": "-hw_qWKmwg69",
        "outputId": "9108fda2-2472-4929-8870-a732aef24844"
      },
      "source": [
        "poly_SVC_classifier.fit(X_train, y_train)"
      ],
      "execution_count": null,
      "outputs": [
        {
          "output_type": "execute_result",
          "data": {
            "text/plain": [
              "SVC(C=1.0, break_ties=False, cache_size=200, class_weight=None, coef0=0.0,\n",
              "    decision_function_shape='ovr', degree=3, gamma='scale', kernel='poly',\n",
              "    max_iter=-1, probability=False, random_state=None, shrinking=True,\n",
              "    tol=0.001, verbose=False)"
            ]
          },
          "metadata": {},
          "execution_count": 40
        }
      ]
    },
    {
      "cell_type": "code",
      "metadata": {
        "colab": {
          "base_uri": "https://localhost:8080/"
        },
        "id": "CtXhT503wlmn",
        "outputId": "986c1c90-cd63-43ad-ed09-b25ea9a61caf"
      },
      "source": [
        "y_pred = poly_SVC_classifier.predict(X_test)\n",
        "print(f\"Accuracy: {100 * accuracy_score(y_test,y_pred)}%\\n\")\n",
        "cf_matrix = confusion_matrix(y_test,y_pred)\n",
        "print(\"Confusion Matrix:\\n\", cf_matrix)\n",
        "print(\"\\nClassification Report:\\n\")\n",
        "print(classification_report(y_test,y_pred))"
      ],
      "execution_count": null,
      "outputs": [
        {
          "output_type": "stream",
          "name": "stdout",
          "text": [
            "Accuracy: 74.07407407407408%\n",
            "\n",
            "Confusion Matrix:\n",
            " [[15  1  3]\n",
            " [ 1 21  0]\n",
            " [ 0  9  4]]\n",
            "\n",
            "Classification Report:\n",
            "\n",
            "              precision    recall  f1-score   support\n",
            "\n",
            "           0       0.94      0.79      0.86        19\n",
            "           1       0.68      0.95      0.79        22\n",
            "           2       0.57      0.31      0.40        13\n",
            "\n",
            "    accuracy                           0.74        54\n",
            "   macro avg       0.73      0.68      0.68        54\n",
            "weighted avg       0.74      0.74      0.72        54\n",
            "\n"
          ]
        }
      ]
    },
    {
      "cell_type": "code",
      "metadata": {
        "colab": {
          "base_uri": "https://localhost:8080/"
        },
        "id": "gNA-aKPIwpep",
        "outputId": "359cbf69-919d-4d42-c2f2-04988713d305"
      },
      "source": [
        "sns.heatmap(cf_matrix, annot=True)"
      ],
      "execution_count": null,
      "outputs": [
        {
          "output_type": "execute_result",
          "data": {
            "text/plain": [
              "<matplotlib.axes._subplots.AxesSubplot at 0x7f5e209ea350>"
            ]
          },
          "metadata": {},
          "execution_count": 42
        },
        {
          "output_type": "display_data",
          "data": {
            "image/png": "[encoded data removed]",
            "text/plain": [
              "<Figure size 432x288 with 2 Axes>"
            ]
          },
          "metadata": {
            "needs_background": "light"
          }
        }
      ]
    },
    {
      "cell_type": "markdown",
      "metadata": {
        "id": "t9eIdiSxK0ci"
      },
      "source": [
        "### train size : test size = 60% : 40%\n",
        "\n"
      ]
    },
    {
      "cell_type": "code",
      "metadata": {
        "id": "va6XPODxKxnR"
      },
      "source": [
        "X_train, X_test, y_train, y_test = train_test_split(X, y, test_size=0.4, random_state=0)"
      ],
      "execution_count": null,
      "outputs": []
    },
    {
      "cell_type": "code",
      "metadata": {
        "colab": {
          "base_uri": "https://localhost:8080/"
        },
        "id": "ofj_NUoRLHcI",
        "outputId": "c010618a-d3aa-4f47-e785-8769d96ef66a"
      },
      "source": [
        "print(len(X_train))\n",
        "print(len(y_test))"
      ],
      "execution_count": null,
      "outputs": [
        {
          "output_type": "stream",
          "name": "stdout",
          "text": [
            "106\n",
            "72\n"
          ]
        }
      ]
    },
    {
      "cell_type": "code",
      "metadata": {
        "colab": {
          "base_uri": "https://localhost:8080/"
        },
        "id": "vipfMG7RLLGf",
        "outputId": "8fe91a23-78b5-4f26-ebc6-508ab99f0486"
      },
      "source": [
        "poly_SVC_classifier.fit(X_train, y_train)"
      ],
      "execution_count": null,
      "outputs": [
        {
          "output_type": "execute_result",
          "data": {
            "text/plain": [
              "SVC(C=1.0, break_ties=False, cache_size=200, class_weight=None, coef0=0.0,\n",
              "    decision_function_shape='ovr', degree=3, gamma='scale', kernel='poly',\n",
              "    max_iter=-1, probability=False, random_state=None, shrinking=True,\n",
              "    tol=0.001, verbose=False)"
            ]
          },
          "metadata": {},
          "execution_count": 45
        }
      ]
    },
    {
      "cell_type": "code",
      "metadata": {
        "colab": {
          "base_uri": "https://localhost:8080/"
        },
        "id": "sfLMjJenLNs5",
        "outputId": "340336db-d47a-47e5-c2e2-b9c9857ae4ce"
      },
      "source": [
        "y_pred = poly_SVC_classifier.predict(X_test)\n",
        "print(f\"Accuracy: {100 * accuracy_score(y_test,y_pred)}%\\n\")\n",
        "cf_matrix = confusion_matrix(y_test,y_pred)\n",
        "print(\"Confusion Matrix:\\n\", cf_matrix)\n",
        "print(\"\\nClassification Report:\\n\")\n",
        "print(classification_report(y_test,y_pred))"
      ],
      "execution_count": null,
      "outputs": [
        {
          "output_type": "stream",
          "name": "stdout",
          "text": [
            "Accuracy: 65.27777777777779%\n",
            "\n",
            "Confusion Matrix:\n",
            " [[18  4  0]\n",
            " [ 2 29  0]\n",
            " [ 0 19  0]]\n",
            "\n",
            "Classification Report:\n",
            "\n",
            "              precision    recall  f1-score   support\n",
            "\n",
            "           0       0.90      0.82      0.86        22\n",
            "           1       0.56      0.94      0.70        31\n",
            "           2       0.00      0.00      0.00        19\n",
            "\n",
            "    accuracy                           0.65        72\n",
            "   macro avg       0.49      0.58      0.52        72\n",
            "weighted avg       0.52      0.65      0.56        72\n",
            "\n"
          ]
        },
        {
          "output_type": "stream",
          "name": "stderr",
          "text": [
            "/usr/local/lib/python3.7/dist-packages/sklearn/metrics/_classification.py:1272: UndefinedMetricWarning: Precision and F-score are ill-defined and being set to 0.0 in labels with no predicted samples. Use `zero_division` parameter to control this behavior.\n",
            "  _warn_prf(average, modifier, msg_start, len(result))\n"
          ]
        }
      ]
    },
    {
      "cell_type": "code",
      "metadata": {
        "colab": {
          "base_uri": "https://localhost:8080/"
        },
        "id": "cZzK_HdXLRJL",
        "outputId": "6675f95c-fc51-4cfa-8641-5c5ba30965f9"
      },
      "source": [
        "sns.heatmap(cf_matrix, annot=True)"
      ],
      "execution_count": null,
      "outputs": [
        {
          "output_type": "execute_result",
          "data": {
            "text/plain": [
              "<matplotlib.axes._subplots.AxesSubplot at 0x7f5e208806d0>"
            ]
          },
          "metadata": {},
          "execution_count": 47
        },
        {
          "output_type": "display_data",
          "data": {
            "image/png": "[encoded data removed]",
            "text/plain": [
              "<Figure size 432x288 with 2 Axes>"
            ]
          },
          "metadata": {
            "needs_background": "light"
          }
        }
      ]
    },
    {
      "cell_type": "markdown",
      "metadata": {
        "id": "sXPRxOMwPnis"
      },
      "source": [
        "###train size : test size = 50% : 50%"
      ]
    },
    {
      "cell_type": "code",
      "metadata": {
        "id": "3YMOwUCnLUqN"
      },
      "source": [
        "X_train, X_test, y_train, y_test = train_test_split(X, y, test_size=0.5, random_state=0)"
      ],
      "execution_count": null,
      "outputs": []
    },
    {
      "cell_type": "code",
      "metadata": {
        "colab": {
          "base_uri": "https://localhost:8080/"
        },
        "id": "MbcPfogDQRcy",
        "outputId": "47deae0a-963a-4377-a93c-45ac04193894"
      },
      "source": [
        "print(len(X_train))\n",
        "print(len(y_test))"
      ],
      "execution_count": null,
      "outputs": [
        {
          "output_type": "stream",
          "name": "stdout",
          "text": [
            "89\n",
            "89\n"
          ]
        }
      ]
    },
    {
      "cell_type": "code",
      "metadata": {
        "colab": {
          "base_uri": "https://localhost:8080/"
        },
        "id": "GY13xbAtPzAx",
        "outputId": "52bf6ef5-d06a-4558-ad26-23c2e71618e0"
      },
      "source": [
        "poly_SVC_classifier.fit(X_train, y_train)"
      ],
      "execution_count": null,
      "outputs": [
        {
          "output_type": "execute_result",
          "data": {
            "text/plain": [
              "SVC(C=1.0, break_ties=False, cache_size=200, class_weight=None, coef0=0.0,\n",
              "    decision_function_shape='ovr', degree=3, gamma='scale', kernel='poly',\n",
              "    max_iter=-1, probability=False, random_state=None, shrinking=True,\n",
              "    tol=0.001, verbose=False)"
            ]
          },
          "metadata": {},
          "execution_count": 50
        }
      ]
    },
    {
      "cell_type": "code",
      "metadata": {
        "colab": {
          "base_uri": "https://localhost:8080/"
        },
        "id": "_iMpV0nrP1sk",
        "outputId": "3ac03094-eaa1-4b23-86fd-96d9d618411b"
      },
      "source": [
        "y_pred = poly_SVC_classifier.predict(X_test)\n",
        "print(f\"Accuracy: {100 * accuracy_score(y_test,y_pred)}%\\n\")\n",
        "cf_matrix = confusion_matrix(y_test,y_pred)\n",
        "print(\"Confusion Matrix:\\n\", cf_matrix)\n",
        "print(\"\\nClassification Report:\\n\")\n",
        "print(classification_report(y_test,y_pred))"
      ],
      "execution_count": null,
      "outputs": [
        {
          "output_type": "stream",
          "name": "stdout",
          "text": [
            "Accuracy: 70.78651685393258%\n",
            "\n",
            "Confusion Matrix:\n",
            " [[22  1  2]\n",
            " [ 3 37  0]\n",
            " [ 3 17  4]]\n",
            "\n",
            "Classification Report:\n",
            "\n",
            "              precision    recall  f1-score   support\n",
            "\n",
            "           0       0.79      0.88      0.83        25\n",
            "           1       0.67      0.93      0.78        40\n",
            "           2       0.67      0.17      0.27        24\n",
            "\n",
            "    accuracy                           0.71        89\n",
            "   macro avg       0.71      0.66      0.63        89\n",
            "weighted avg       0.70      0.71      0.66        89\n",
            "\n"
          ]
        }
      ]
    },
    {
      "cell_type": "code",
      "metadata": {
        "colab": {
          "base_uri": "https://localhost:8080/"
        },
        "id": "OmiPH8coP4_L",
        "outputId": "90f0f71d-1cef-462f-85e2-b26076ba2634"
      },
      "source": [
        "sns.heatmap(cf_matrix, annot=True)"
      ],
      "execution_count": null,
      "outputs": [
        {
          "output_type": "execute_result",
          "data": {
            "text/plain": [
              "<matplotlib.axes._subplots.AxesSubplot at 0x7f5e20828dd0>"
            ]
          },
          "metadata": {},
          "execution_count": 52
        },
        {
          "output_type": "display_data",
          "data": {
            "image/png": "[encoded data removed]",
            "text/plain": [
              "<Figure size 432x288 with 2 Axes>"
            ]
          },
          "metadata": {
            "needs_background": "light"
          }
        }
      ]
    },
    {
      "cell_type": "markdown",
      "metadata": {
        "id": "CNOPsATkP-YP"
      },
      "source": [
        "###train size : test size = 40% : 60%"
      ]
    },
    {
      "cell_type": "code",
      "metadata": {
        "id": "eZvlV2e-P8i8"
      },
      "source": [
        "X_train, X_test, y_train, y_test = train_test_split(X, y, test_size=0.6, random_state=0)"
      ],
      "execution_count": null,
      "outputs": []
    },
    {
      "cell_type": "code",
      "metadata": {
        "colab": {
          "base_uri": "https://localhost:8080/"
        },
        "id": "cimNFtrQQX36",
        "outputId": "1ea6cab4-b762-459b-a476-3c95b86f55ef"
      },
      "source": [
        "print(len(X_train))\n",
        "print(len(y_test))"
      ],
      "execution_count": null,
      "outputs": [
        {
          "output_type": "stream",
          "name": "stdout",
          "text": [
            "71\n",
            "107\n"
          ]
        }
      ]
    },
    {
      "cell_type": "code",
      "metadata": {
        "colab": {
          "base_uri": "https://localhost:8080/"
        },
        "id": "-pu2cbPEQFbb",
        "outputId": "05fb87bb-aa79-4737-bc85-a89c4ed7d541"
      },
      "source": [
        "poly_SVC_classifier.fit(X_train, y_train)"
      ],
      "execution_count": null,
      "outputs": [
        {
          "output_type": "execute_result",
          "data": {
            "text/plain": [
              "SVC(C=1.0, break_ties=False, cache_size=200, class_weight=None, coef0=0.0,\n",
              "    decision_function_shape='ovr', degree=3, gamma='scale', kernel='poly',\n",
              "    max_iter=-1, probability=False, random_state=None, shrinking=True,\n",
              "    tol=0.001, verbose=False)"
            ]
          },
          "metadata": {},
          "execution_count": 55
        }
      ]
    },
    {
      "cell_type": "code",
      "metadata": {
        "colab": {
          "base_uri": "https://localhost:8080/"
        },
        "id": "fh9SGX0SQICS",
        "outputId": "0074d9f6-293c-4b25-89df-927b8cea92e0"
      },
      "source": [
        "y_pred = poly_SVC_classifier.predict(X_test)\n",
        "print(f\"Accuracy: {100 * accuracy_score(y_test,y_pred)}%\\n\")\n",
        "cf_matrix = confusion_matrix(y_test,y_pred)\n",
        "print(\"Confusion Matrix:\\n\", cf_matrix)\n",
        "print(\"\\nClassification Report:\\n\")\n",
        "print(classification_report(y_test,y_pred))"
      ],
      "execution_count": null,
      "outputs": [
        {
          "output_type": "stream",
          "name": "stdout",
          "text": [
            "Accuracy: 70.09345794392523%\n",
            "\n",
            "Confusion Matrix:\n",
            " [[30  1  3]\n",
            " [ 3 41  2]\n",
            " [ 4 19  4]]\n",
            "\n",
            "Classification Report:\n",
            "\n",
            "              precision    recall  f1-score   support\n",
            "\n",
            "           0       0.81      0.88      0.85        34\n",
            "           1       0.67      0.89      0.77        46\n",
            "           2       0.44      0.15      0.22        27\n",
            "\n",
            "    accuracy                           0.70       107\n",
            "   macro avg       0.64      0.64      0.61       107\n",
            "weighted avg       0.66      0.70      0.65       107\n",
            "\n"
          ]
        }
      ]
    },
    {
      "cell_type": "code",
      "metadata": {
        "colab": {
          "base_uri": "https://localhost:8080/"
        },
        "id": "ZPZCuXr9QOMC",
        "outputId": "a4b6e969-9996-48a9-c7f5-b27d9fdd5534"
      },
      "source": [
        "sns.heatmap(cf_matrix, annot=True)"
      ],
      "execution_count": null,
      "outputs": [
        {
          "output_type": "execute_result",
          "data": {
            "text/plain": [
              "<matplotlib.axes._subplots.AxesSubplot at 0x7f5e20763e10>"
            ]
          },
          "metadata": {},
          "execution_count": 57
        },
        {
          "output_type": "display_data",
          "data": {
            "image/png": "[encoded data removed]",
            "text/plain": [
              "<Figure size 432x288 with 2 Axes>"
            ]
          },
          "metadata": {
            "needs_background": "light"
          }
        }
      ]
    },
    {
      "cell_type": "markdown",
      "metadata": {
        "id": "yEY00GE1QnYf"
      },
      "source": [
        "###train size : test size = 30% : 70%"
      ]
    },
    {
      "cell_type": "code",
      "metadata": {
        "id": "3P_TSK7RQnYg"
      },
      "source": [
        "X_train, X_test, y_train, y_test = train_test_split(X, y, test_size=0.7, random_state=0)"
      ],
      "execution_count": null,
      "outputs": []
    },
    {
      "cell_type": "code",
      "metadata": {
        "colab": {
          "base_uri": "https://localhost:8080/"
        },
        "id": "Ln1wL3n6QnYh",
        "outputId": "21e38a85-88c1-4652-b569-a81122acae3e"
      },
      "source": [
        "print(len(X_train))\n",
        "print(len(y_test))"
      ],
      "execution_count": null,
      "outputs": [
        {
          "output_type": "stream",
          "name": "stdout",
          "text": [
            "53\n",
            "125\n"
          ]
        }
      ]
    },
    {
      "cell_type": "code",
      "metadata": {
        "colab": {
          "base_uri": "https://localhost:8080/"
        },
        "id": "LpAA7mlJQnYi",
        "outputId": "3ba449a7-5686-41c5-cc57-612aca628319"
      },
      "source": [
        "poly_SVC_classifier.fit(X_train, y_train)"
      ],
      "execution_count": null,
      "outputs": [
        {
          "output_type": "execute_result",
          "data": {
            "text/plain": [
              "SVC(C=1.0, break_ties=False, cache_size=200, class_weight=None, coef0=0.0,\n",
              "    decision_function_shape='ovr', degree=3, gamma='scale', kernel='poly',\n",
              "    max_iter=-1, probability=False, random_state=None, shrinking=True,\n",
              "    tol=0.001, verbose=False)"
            ]
          },
          "metadata": {},
          "execution_count": 60
        }
      ]
    },
    {
      "cell_type": "code",
      "metadata": {
        "colab": {
          "base_uri": "https://localhost:8080/"
        },
        "id": "avv5dzhPQnYj",
        "outputId": "f2104855-e5ab-4bee-d5aa-de69dd6e0a0b"
      },
      "source": [
        "y_pred = poly_SVC_classifier.predict(X_test)\n",
        "print(f\"Accuracy: {100 * accuracy_score(y_test,y_pred)}%\\n\")\n",
        "cf_matrix = confusion_matrix(y_test,y_pred)\n",
        "print(\"Confusion Matrix:\\n\", cf_matrix)\n",
        "print(\"\\nClassification Report:\\n\")\n",
        "print(classification_report(y_test,y_pred))"
      ],
      "execution_count": null,
      "outputs": [
        {
          "output_type": "stream",
          "name": "stdout",
          "text": [
            "Accuracy: 70.39999999999999%\n",
            "\n",
            "Confusion Matrix:\n",
            " [[38  1  3]\n",
            " [ 3 45  4]\n",
            " [ 4 22  5]]\n",
            "\n",
            "Classification Report:\n",
            "\n",
            "              precision    recall  f1-score   support\n",
            "\n",
            "           0       0.84      0.90      0.87        42\n",
            "           1       0.66      0.87      0.75        52\n",
            "           2       0.42      0.16      0.23        31\n",
            "\n",
            "    accuracy                           0.70       125\n",
            "   macro avg       0.64      0.64      0.62       125\n",
            "weighted avg       0.66      0.70      0.66       125\n",
            "\n"
          ]
        }
      ]
    },
    {
      "cell_type": "code",
      "metadata": {
        "colab": {
          "base_uri": "https://localhost:8080/"
        },
        "id": "bl1F4P8cQnYk",
        "outputId": "7ee936a7-482b-4a62-e0e0-ae68d2add7a4"
      },
      "source": [
        "sns.heatmap(cf_matrix, annot=True)"
      ],
      "execution_count": null,
      "outputs": [
        {
          "output_type": "execute_result",
          "data": {
            "text/plain": [
              "<matplotlib.axes._subplots.AxesSubplot at 0x7f5e2069f6d0>"
            ]
          },
          "metadata": {},
          "execution_count": 62
        },
        {
          "output_type": "display_data",
          "data": {
            "image/png": "[encoded data removed]",
            "text/plain": [
              "<Figure size 432x288 with 2 Axes>"
            ]
          },
          "metadata": {
            "needs_background": "light"
          }
        }
      ]
    },
    {
      "cell_type": "markdown",
      "metadata": {
        "id": "P8DpYUr2RB27"
      },
      "source": [
        "##Gaussain SVC Classifier"
      ]
    },
    {
      "cell_type": "code",
      "metadata": {
        "colab": {
          "base_uri": "https://localhost:8080/"
        },
        "id": "UEVaIMePRB28",
        "outputId": "c3e88b30-8330-42af-85e2-6d0e6793d351"
      },
      "source": [
        "gaussain_SVC_classifier = SVC(kernel='rbf')\n",
        "gaussain_SVC_classifier"
      ],
      "execution_count": null,
      "outputs": [
        {
          "output_type": "execute_result",
          "data": {
            "text/plain": [
              "SVC(C=1.0, break_ties=False, cache_size=200, class_weight=None, coef0=0.0,\n",
              "    decision_function_shape='ovr', degree=3, gamma='scale', kernel='rbf',\n",
              "    max_iter=-1, probability=False, random_state=None, shrinking=True,\n",
              "    tol=0.001, verbose=False)"
            ]
          },
          "metadata": {},
          "execution_count": 63
        }
      ]
    },
    {
      "cell_type": "markdown",
      "metadata": {
        "id": "C6S9uzq7RB28"
      },
      "source": [
        "###train size : test size = 70% : 30%"
      ]
    },
    {
      "cell_type": "code",
      "metadata": {
        "id": "Ma4JfHLQRB28"
      },
      "source": [
        "X_train, X_test, y_train, y_test = train_test_split(X, y, test_size=0.3, random_state=0)"
      ],
      "execution_count": null,
      "outputs": []
    },
    {
      "cell_type": "code",
      "metadata": {
        "colab": {
          "base_uri": "https://localhost:8080/"
        },
        "id": "vFqtk1N0RB29",
        "outputId": "c92435f2-c57e-4ff9-ac14-97abf8066134"
      },
      "source": [
        "print(len(X_train))\n",
        "print(len(y_test))"
      ],
      "execution_count": null,
      "outputs": [
        {
          "output_type": "stream",
          "name": "stdout",
          "text": [
            "124\n",
            "54\n"
          ]
        }
      ]
    },
    {
      "cell_type": "code",
      "metadata": {
        "colab": {
          "base_uri": "https://localhost:8080/"
        },
        "id": "H9KrIZFvRB29",
        "outputId": "4ab35acf-8ee1-4d16-d0e1-31fb5590107b"
      },
      "source": [
        "gaussain_SVC_classifier.fit(X_train, y_train)"
      ],
      "execution_count": null,
      "outputs": [
        {
          "output_type": "execute_result",
          "data": {
            "text/plain": [
              "SVC(C=1.0, break_ties=False, cache_size=200, class_weight=None, coef0=0.0,\n",
              "    decision_function_shape='ovr', degree=3, gamma='scale', kernel='rbf',\n",
              "    max_iter=-1, probability=False, random_state=None, shrinking=True,\n",
              "    tol=0.001, verbose=False)"
            ]
          },
          "metadata": {},
          "execution_count": 66
        }
      ]
    },
    {
      "cell_type": "code",
      "metadata": {
        "colab": {
          "base_uri": "https://localhost:8080/"
        },
        "id": "EFj7muvzRB29",
        "outputId": "e8c7c1df-71ed-4e38-a205-0c547921e42a"
      },
      "source": [
        "y_pred = gaussain_SVC_classifier.predict(X_test)\n",
        "print(f\"Accuracy: {100 * accuracy_score(y_test,y_pred)}%\\n\")\n",
        "cf_matrix = confusion_matrix(y_test,y_pred)\n",
        "print(\"Confusion Matrix:\\n\", cf_matrix)\n",
        "print(\"\\nClassification Report:\\n\")\n",
        "print(classification_report(y_test,y_pred))"
      ],
      "execution_count": null,
      "outputs": [
        {
          "output_type": "stream",
          "name": "stdout",
          "text": [
            "Accuracy: 77.77777777777779%\n",
            "\n",
            "Confusion Matrix:\n",
            " [[17  0  2]\n",
            " [ 1 20  1]\n",
            " [ 1  7  5]]\n",
            "\n",
            "Classification Report:\n",
            "\n",
            "              precision    recall  f1-score   support\n",
            "\n",
            "           0       0.89      0.89      0.89        19\n",
            "           1       0.74      0.91      0.82        22\n",
            "           2       0.62      0.38      0.48        13\n",
            "\n",
            "    accuracy                           0.78        54\n",
            "   macro avg       0.75      0.73      0.73        54\n",
            "weighted avg       0.77      0.78      0.76        54\n",
            "\n"
          ]
        }
      ]
    },
    {
      "cell_type": "code",
      "metadata": {
        "colab": {
          "base_uri": "https://localhost:8080/"
        },
        "id": "bOpy3nrWRB29",
        "outputId": "3eeea699-3b40-4911-df01-a04bc9bcaebe"
      },
      "source": [
        "sns.heatmap(cf_matrix, annot=True)"
      ],
      "execution_count": null,
      "outputs": [
        {
          "output_type": "execute_result",
          "data": {
            "text/plain": [
              "<matplotlib.axes._subplots.AxesSubplot at 0x7f5e205db9d0>"
            ]
          },
          "metadata": {},
          "execution_count": 68
        },
        {
          "output_type": "display_data",
          "data": {
            "image/png": "[encoded data removed]",
            "text/plain": [
              "<Figure size 432x288 with 2 Axes>"
            ]
          },
          "metadata": {
            "needs_background": "light"
          }
        }
      ]
    },
    {
      "cell_type": "markdown",
      "metadata": {
        "id": "s3rHVPrdRB29"
      },
      "source": [
        "### train size : test size = 60% : 40%\n",
        "\n"
      ]
    },
    {
      "cell_type": "code",
      "metadata": {
        "id": "G3Qt2hNfRB29"
      },
      "source": [
        "X_train, X_test, y_train, y_test = train_test_split(X, y, test_size=0.4, random_state=0)"
      ],
      "execution_count": null,
      "outputs": []
    },
    {
      "cell_type": "code",
      "metadata": {
        "colab": {
          "base_uri": "https://localhost:8080/"
        },
        "id": "pyOTNtVIRB29",
        "outputId": "e6d1893b-7cc4-48b7-f12a-da4917df98a0"
      },
      "source": [
        "print(len(X_train))\n",
        "print(len(y_test))"
      ],
      "execution_count": null,
      "outputs": [
        {
          "output_type": "stream",
          "name": "stdout",
          "text": [
            "106\n",
            "72\n"
          ]
        }
      ]
    },
    {
      "cell_type": "code",
      "metadata": {
        "colab": {
          "base_uri": "https://localhost:8080/"
        },
        "id": "HH5FE0F9RB2-",
        "outputId": "5e1d0065-8c88-4606-a1fd-143f65119061"
      },
      "source": [
        "gaussain_SVC_classifier.fit(X_train, y_train)"
      ],
      "execution_count": null,
      "outputs": [
        {
          "output_type": "execute_result",
          "data": {
            "text/plain": [
              "SVC(C=1.0, break_ties=False, cache_size=200, class_weight=None, coef0=0.0,\n",
              "    decision_function_shape='ovr', degree=3, gamma='scale', kernel='rbf',\n",
              "    max_iter=-1, probability=False, random_state=None, shrinking=True,\n",
              "    tol=0.001, verbose=False)"
            ]
          },
          "metadata": {},
          "execution_count": 71
        }
      ]
    },
    {
      "cell_type": "code",
      "metadata": {
        "colab": {
          "base_uri": "https://localhost:8080/"
        },
        "id": "S-vECiDBRB2-",
        "outputId": "9519a7ea-b848-443c-a217-a7885ca82bfc"
      },
      "source": [
        "y_pred = gaussain_SVC_classifier.predict(X_test)\n",
        "print(f\"Accuracy: {100 * accuracy_score(y_test,y_pred)}%\\n\")\n",
        "cf_matrix = confusion_matrix(y_test,y_pred)\n",
        "print(\"Confusion Matrix:\\n\", cf_matrix)\n",
        "print(\"\\nClassification Report:\\n\")\n",
        "print(classification_report(y_test,y_pred))"
      ],
      "execution_count": null,
      "outputs": [
        {
          "output_type": "stream",
          "name": "stdout",
          "text": [
            "Accuracy: 68.05555555555556%\n",
            "\n",
            "Confusion Matrix:\n",
            " [[20  2  0]\n",
            " [ 2 29  0]\n",
            " [ 3 16  0]]\n",
            "\n",
            "Classification Report:\n",
            "\n",
            "              precision    recall  f1-score   support\n",
            "\n",
            "           0       0.80      0.91      0.85        22\n",
            "           1       0.62      0.94      0.74        31\n",
            "           2       0.00      0.00      0.00        19\n",
            "\n",
            "    accuracy                           0.68        72\n",
            "   macro avg       0.47      0.61      0.53        72\n",
            "weighted avg       0.51      0.68      0.58        72\n",
            "\n"
          ]
        },
        {
          "output_type": "stream",
          "name": "stderr",
          "text": [
            "/usr/local/lib/python3.7/dist-packages/sklearn/metrics/_classification.py:1272: UndefinedMetricWarning: Precision and F-score are ill-defined and being set to 0.0 in labels with no predicted samples. Use `zero_division` parameter to control this behavior.\n",
            "  _warn_prf(average, modifier, msg_start, len(result))\n"
          ]
        }
      ]
    },
    {
      "cell_type": "code",
      "metadata": {
        "colab": {
          "base_uri": "https://localhost:8080/"
        },
        "id": "W0P9yQYmRB2-",
        "outputId": "122733fc-1f64-41b6-af49-2d854868c7df"
      },
      "source": [
        "sns.heatmap(cf_matrix, annot=True)"
      ],
      "execution_count": null,
      "outputs": [
        {
          "output_type": "execute_result",
          "data": {
            "text/plain": [
              "<matplotlib.axes._subplots.AxesSubplot at 0x7f5e2051e450>"
            ]
          },
          "metadata": {},
          "execution_count": 73
        },
        {
          "output_type": "display_data",
          "data": {
            "image/png": "[encoded data removed]",
            "text/plain": [
              "<Figure size 432x288 with 2 Axes>"
            ]
          },
          "metadata": {
            "needs_background": "light"
          }
        }
      ]
    },
    {
      "cell_type": "markdown",
      "metadata": {
        "id": "UYE6eJdSRB2-"
      },
      "source": [
        "###train size : test size = 50% : 50%"
      ]
    },
    {
      "cell_type": "code",
      "metadata": {
        "id": "oUHFyBqGRB2-"
      },
      "source": [
        "X_train, X_test, y_train, y_test = train_test_split(X, y, test_size=0.5, random_state=0)"
      ],
      "execution_count": null,
      "outputs": []
    },
    {
      "cell_type": "code",
      "metadata": {
        "colab": {
          "base_uri": "https://localhost:8080/"
        },
        "id": "5CJknD73RB2-",
        "outputId": "6a0055f3-bc5f-4d06-86e8-63a3f4ace4e6"
      },
      "source": [
        "print(len(X_train))\n",
        "print(len(y_test))"
      ],
      "execution_count": null,
      "outputs": [
        {
          "output_type": "stream",
          "name": "stdout",
          "text": [
            "89\n",
            "89\n"
          ]
        }
      ]
    },
    {
      "cell_type": "code",
      "metadata": {
        "colab": {
          "base_uri": "https://localhost:8080/"
        },
        "id": "JXJe_gdDRB2_",
        "outputId": "15e18121-eaad-422e-f662-8d24285f9260"
      },
      "source": [
        "gaussain_SVC_classifier.fit(X_train, y_train)"
      ],
      "execution_count": null,
      "outputs": [
        {
          "output_type": "execute_result",
          "data": {
            "text/plain": [
              "SVC(C=1.0, break_ties=False, cache_size=200, class_weight=None, coef0=0.0,\n",
              "    decision_function_shape='ovr', degree=3, gamma='scale', kernel='rbf',\n",
              "    max_iter=-1, probability=False, random_state=None, shrinking=True,\n",
              "    tol=0.001, verbose=False)"
            ]
          },
          "metadata": {},
          "execution_count": 76
        }
      ]
    },
    {
      "cell_type": "code",
      "metadata": {
        "colab": {
          "base_uri": "https://localhost:8080/"
        },
        "id": "wMuLxvdzRB2_",
        "outputId": "0f4a01d0-d8d3-40b5-a8a0-5da390c67962"
      },
      "source": [
        "y_pred = gaussain_SVC_classifier.predict(X_test)\n",
        "print(f\"Accuracy: {100 * accuracy_score(y_test,y_pred)}%\\n\")\n",
        "cf_matrix = confusion_matrix(y_test,y_pred)\n",
        "print(\"Confusion Matrix:\\n\", cf_matrix)\n",
        "print(\"\\nClassification Report:\\n\")\n",
        "print(classification_report(y_test,y_pred))"
      ],
      "execution_count": null,
      "outputs": [
        {
          "output_type": "stream",
          "name": "stdout",
          "text": [
            "Accuracy: 67.41573033707866%\n",
            "\n",
            "Confusion Matrix:\n",
            " [[22  2  1]\n",
            " [ 3 37  0]\n",
            " [ 3 20  1]]\n",
            "\n",
            "Classification Report:\n",
            "\n",
            "              precision    recall  f1-score   support\n",
            "\n",
            "           0       0.79      0.88      0.83        25\n",
            "           1       0.63      0.93      0.75        40\n",
            "           2       0.50      0.04      0.08        24\n",
            "\n",
            "    accuracy                           0.67        89\n",
            "   macro avg       0.64      0.62      0.55        89\n",
            "weighted avg       0.64      0.67      0.59        89\n",
            "\n"
          ]
        }
      ]
    },
    {
      "cell_type": "code",
      "metadata": {
        "colab": {
          "base_uri": "https://localhost:8080/"
        },
        "id": "mT5Ov5XYRB2_",
        "outputId": "8ac6fcaa-10b7-4a07-9a7e-b5fc87b90dad"
      },
      "source": [
        "sns.heatmap(cf_matrix, annot=True)"
      ],
      "execution_count": null,
      "outputs": [
        {
          "output_type": "execute_result",
          "data": {
            "text/plain": [
              "<matplotlib.axes._subplots.AxesSubplot at 0x7f5e205651d0>"
            ]
          },
          "metadata": {},
          "execution_count": 78
        },
        {
          "output_type": "display_data",
          "data": {
            "image/png": "[encoded data removed]",
            "text/plain": [
              "<Figure size 432x288 with 2 Axes>"
            ]
          },
          "metadata": {
            "needs_background": "light"
          }
        }
      ]
    },
    {
      "cell_type": "markdown",
      "metadata": {
        "id": "ieGdb76lRB2_"
      },
      "source": [
        "###train size : test size = 40% : 60%"
      ]
    },
    {
      "cell_type": "code",
      "metadata": {
        "id": "MCXESfLURB2_"
      },
      "source": [
        "X_train, X_test, y_train, y_test = train_test_split(X, y, test_size=0.6, random_state=0)"
      ],
      "execution_count": null,
      "outputs": []
    },
    {
      "cell_type": "code",
      "metadata": {
        "colab": {
          "base_uri": "https://localhost:8080/"
        },
        "id": "kCPKlPk-RB2_",
        "outputId": "eb13488f-38bb-42e3-c648-18b6bcb21881"
      },
      "source": [
        "print(len(X_train))\n",
        "print(len(y_test))"
      ],
      "execution_count": null,
      "outputs": [
        {
          "output_type": "stream",
          "name": "stdout",
          "text": [
            "71\n",
            "107\n"
          ]
        }
      ]
    },
    {
      "cell_type": "code",
      "metadata": {
        "colab": {
          "base_uri": "https://localhost:8080/"
        },
        "id": "c1azAUf6RB2_",
        "outputId": "bdff768b-7d22-4c3d-deca-5be0faf4b40a"
      },
      "source": [
        "gaussain_SVC_classifier.fit(X_train, y_train)"
      ],
      "execution_count": null,
      "outputs": [
        {
          "output_type": "execute_result",
          "data": {
            "text/plain": [
              "SVC(C=1.0, break_ties=False, cache_size=200, class_weight=None, coef0=0.0,\n",
              "    decision_function_shape='ovr', degree=3, gamma='scale', kernel='rbf',\n",
              "    max_iter=-1, probability=False, random_state=None, shrinking=True,\n",
              "    tol=0.001, verbose=False)"
            ]
          },
          "metadata": {},
          "execution_count": 81
        }
      ]
    },
    {
      "cell_type": "code",
      "metadata": {
        "colab": {
          "base_uri": "https://localhost:8080/"
        },
        "id": "JVnJQSGhRB3A",
        "outputId": "ea3a9de4-d56f-4fab-ec23-13dbac2d0361"
      },
      "source": [
        "y_pred = gaussain_SVC_classifier.predict(X_test)\n",
        "print(f\"Accuracy: {100 * accuracy_score(y_test,y_pred)}%\\n\")\n",
        "cf_matrix = confusion_matrix(y_test,y_pred)\n",
        "print(\"Confusion Matrix:\\n\", cf_matrix)\n",
        "print(\"\\nClassification Report:\\n\")\n",
        "print(classification_report(y_test,y_pred))"
      ],
      "execution_count": null,
      "outputs": [
        {
          "output_type": "stream",
          "name": "stdout",
          "text": [
            "Accuracy: 71.96261682242991%\n",
            "\n",
            "Confusion Matrix:\n",
            " [[30  0  4]\n",
            " [ 3 36  7]\n",
            " [ 4 12 11]]\n",
            "\n",
            "Classification Report:\n",
            "\n",
            "              precision    recall  f1-score   support\n",
            "\n",
            "           0       0.81      0.88      0.85        34\n",
            "           1       0.75      0.78      0.77        46\n",
            "           2       0.50      0.41      0.45        27\n",
            "\n",
            "    accuracy                           0.72       107\n",
            "   macro avg       0.69      0.69      0.69       107\n",
            "weighted avg       0.71      0.72      0.71       107\n",
            "\n"
          ]
        }
      ]
    },
    {
      "cell_type": "code",
      "metadata": {
        "colab": {
          "base_uri": "https://localhost:8080/"
        },
        "id": "egb0ZBmKRB3B",
        "outputId": "c1e3b03d-5cbc-4dfa-91bb-b7a9a9f354f5"
      },
      "source": [
        "sns.heatmap(cf_matrix, annot=True)"
      ],
      "execution_count": null,
      "outputs": [
        {
          "output_type": "execute_result",
          "data": {
            "text/plain": [
              "<matplotlib.axes._subplots.AxesSubplot at 0x7f5e20900d90>"
            ]
          },
          "metadata": {},
          "execution_count": 83
        },
        {
          "output_type": "display_data",
          "data": {
            "image/png": "[encoded data removed]",
            "text/plain": [
              "<Figure size 432x288 with 2 Axes>"
            ]
          },
          "metadata": {
            "needs_background": "light"
          }
        }
      ]
    },
    {
      "cell_type": "markdown",
      "metadata": {
        "id": "snAaf7KvRB3B"
      },
      "source": [
        "###train size : test size = 30% : 70%"
      ]
    },
    {
      "cell_type": "code",
      "metadata": {
        "id": "XHFkc7qpRB3B"
      },
      "source": [
        "X_train, X_test, y_train, y_test = train_test_split(X, y, test_size=0.7, random_state=0)"
      ],
      "execution_count": null,
      "outputs": []
    },
    {
      "cell_type": "code",
      "metadata": {
        "colab": {
          "base_uri": "https://localhost:8080/"
        },
        "id": "o7R7YRBaRB3C",
        "outputId": "c01df3e6-132e-4c5c-9e80-b8bfbdd10fc0"
      },
      "source": [
        "print(len(X_train))\n",
        "print(len(y_test))"
      ],
      "execution_count": null,
      "outputs": [
        {
          "output_type": "stream",
          "name": "stdout",
          "text": [
            "53\n",
            "125\n"
          ]
        }
      ]
    },
    {
      "cell_type": "code",
      "metadata": {
        "colab": {
          "base_uri": "https://localhost:8080/"
        },
        "id": "1KgUANvTRB3C",
        "outputId": "2df09aeb-5d73-49aa-ef6c-668271000bb4"
      },
      "source": [
        "gaussain_SVC_classifier.fit(X_train, y_train)"
      ],
      "execution_count": null,
      "outputs": [
        {
          "output_type": "execute_result",
          "data": {
            "text/plain": [
              "SVC(C=1.0, break_ties=False, cache_size=200, class_weight=None, coef0=0.0,\n",
              "    decision_function_shape='ovr', degree=3, gamma='scale', kernel='rbf',\n",
              "    max_iter=-1, probability=False, random_state=None, shrinking=True,\n",
              "    tol=0.001, verbose=False)"
            ]
          },
          "metadata": {},
          "execution_count": 86
        }
      ]
    },
    {
      "cell_type": "code",
      "metadata": {
        "colab": {
          "base_uri": "https://localhost:8080/"
        },
        "id": "CJzGj_8VRB3C",
        "outputId": "786bfbd6-0920-4a3f-8a1b-789237584258"
      },
      "source": [
        "y_pred = gaussain_SVC_classifier.predict(X_test)\n",
        "print(f\"Accuracy: {100 * accuracy_score(y_test,y_pred)}%\\n\")\n",
        "cf_matrix = confusion_matrix(y_test,y_pred)\n",
        "print(\"Confusion Matrix:\\n\", cf_matrix)\n",
        "print(\"\\nClassification Report:\\n\")\n",
        "print(classification_report(y_test,y_pred))"
      ],
      "execution_count": null,
      "outputs": [
        {
          "output_type": "stream",
          "name": "stdout",
          "text": [
            "Accuracy: 72.0%\n",
            "\n",
            "Confusion Matrix:\n",
            " [[38  0  4]\n",
            " [ 3 36 13]\n",
            " [ 4 11 16]]\n",
            "\n",
            "Classification Report:\n",
            "\n",
            "              precision    recall  f1-score   support\n",
            "\n",
            "           0       0.84      0.90      0.87        42\n",
            "           1       0.77      0.69      0.73        52\n",
            "           2       0.48      0.52      0.50        31\n",
            "\n",
            "    accuracy                           0.72       125\n",
            "   macro avg       0.70      0.70      0.70       125\n",
            "weighted avg       0.72      0.72      0.72       125\n",
            "\n"
          ]
        }
      ]
    },
    {
      "cell_type": "code",
      "metadata": {
        "colab": {
          "base_uri": "https://localhost:8080/"
        },
        "id": "ZPQmrKcuRB3C",
        "outputId": "bbc1f118-894d-4613-9f8c-9a8f72ddc86f"
      },
      "source": [
        "sns.heatmap(cf_matrix, annot=True)"
      ],
      "execution_count": null,
      "outputs": [
        {
          "output_type": "execute_result",
          "data": {
            "text/plain": [
              "<matplotlib.axes._subplots.AxesSubplot at 0x7f5e2030e2d0>"
            ]
          },
          "metadata": {},
          "execution_count": 88
        },
        {
          "output_type": "display_data",
          "data": {
            "image/png": "[encoded data removed]",
            "text/plain": [
              "<Figure size 432x288 with 2 Axes>"
            ]
          },
          "metadata": {
            "needs_background": "light"
          }
        }
      ]
    },
    {
      "cell_type": "markdown",
      "metadata": {
        "id": "6Uq5AA4VSNWk"
      },
      "source": [
        "##Sigmoid SVC Classifier"
      ]
    },
    {
      "cell_type": "code",
      "metadata": {
        "colab": {
          "base_uri": "https://localhost:8080/"
        },
        "id": "a5p2Efy0SNWt",
        "outputId": "d9285bf7-be6e-4e69-8c8b-d517be9956c3"
      },
      "source": [
        "sigmoid_SVC_classifier = SVC(kernel='sigmoid')\n",
        "sigmoid_SVC_classifier"
      ],
      "execution_count": null,
      "outputs": [
        {
          "output_type": "execute_result",
          "data": {
            "text/plain": [
              "SVC(C=1.0, break_ties=False, cache_size=200, class_weight=None, coef0=0.0,\n",
              "    decision_function_shape='ovr', degree=3, gamma='scale', kernel='sigmoid',\n",
              "    max_iter=-1, probability=False, random_state=None, shrinking=True,\n",
              "    tol=0.001, verbose=False)"
            ]
          },
          "metadata": {},
          "execution_count": 89
        }
      ]
    },
    {
      "cell_type": "markdown",
      "metadata": {
        "id": "rMny6tMeSNWt"
      },
      "source": [
        "###train size : test size = 70% : 30%"
      ]
    },
    {
      "cell_type": "code",
      "metadata": {
        "id": "uCT65Da1SNWt"
      },
      "source": [
        "X_train, X_test, y_train, y_test = train_test_split(X, y, test_size=0.3, random_state=0)"
      ],
      "execution_count": null,
      "outputs": []
    },
    {
      "cell_type": "code",
      "metadata": {
        "colab": {
          "base_uri": "https://localhost:8080/"
        },
        "id": "i4gMCShxSNWt",
        "outputId": "f8856c1e-1e20-4ff2-d5a6-842a1c0f05dc"
      },
      "source": [
        "print(len(X_train))\n",
        "print(len(y_test))"
      ],
      "execution_count": null,
      "outputs": [
        {
          "output_type": "stream",
          "name": "stdout",
          "text": [
            "124\n",
            "54\n"
          ]
        }
      ]
    },
    {
      "cell_type": "code",
      "metadata": {
        "colab": {
          "base_uri": "https://localhost:8080/"
        },
        "id": "HdlZDuSESNWt",
        "outputId": "185d60b0-c078-4210-bdb2-211edc669eed"
      },
      "source": [
        "sigmoid_SVC_classifier.fit(X_train, y_train)"
      ],
      "execution_count": null,
      "outputs": [
        {
          "output_type": "execute_result",
          "data": {
            "text/plain": [
              "SVC(C=1.0, break_ties=False, cache_size=200, class_weight=None, coef0=0.0,\n",
              "    decision_function_shape='ovr', degree=3, gamma='scale', kernel='sigmoid',\n",
              "    max_iter=-1, probability=False, random_state=None, shrinking=True,\n",
              "    tol=0.001, verbose=False)"
            ]
          },
          "metadata": {},
          "execution_count": 92
        }
      ]
    },
    {
      "cell_type": "code",
      "metadata": {
        "colab": {
          "base_uri": "https://localhost:8080/"
        },
        "id": "dvL_dMXKSNWt",
        "outputId": "044ea362-ac96-4e4c-c008-4a98ab8de032"
      },
      "source": [
        "y_pred = sigmoid_SVC_classifier.predict(X_test)\n",
        "print(f\"Accuracy: {100 * accuracy_score(y_test,y_pred)}%\\n\")\n",
        "cf_matrix = confusion_matrix(y_test,y_pred)\n",
        "print(\"Confusion Matrix:\\n\", cf_matrix)\n",
        "print(\"\\nClassification Report:\\n\")\n",
        "print(classification_report(y_test,y_pred))"
      ],
      "execution_count": null,
      "outputs": [
        {
          "output_type": "stream",
          "name": "stdout",
          "text": [
            "Accuracy: 20.37037037037037%\n",
            "\n",
            "Confusion Matrix:\n",
            " [[ 0 19  0]\n",
            " [11 11  0]\n",
            " [ 8  5  0]]\n",
            "\n",
            "Classification Report:\n",
            "\n",
            "              precision    recall  f1-score   support\n",
            "\n",
            "           0       0.00      0.00      0.00        19\n",
            "           1       0.31      0.50      0.39        22\n",
            "           2       0.00      0.00      0.00        13\n",
            "\n",
            "    accuracy                           0.20        54\n",
            "   macro avg       0.10      0.17      0.13        54\n",
            "weighted avg       0.13      0.20      0.16        54\n",
            "\n"
          ]
        },
        {
          "output_type": "stream",
          "name": "stderr",
          "text": [
            "/usr/local/lib/python3.7/dist-packages/sklearn/metrics/_classification.py:1272: UndefinedMetricWarning: Precision and F-score are ill-defined and being set to 0.0 in labels with no predicted samples. Use `zero_division` parameter to control this behavior.\n",
            "  _warn_prf(average, modifier, msg_start, len(result))\n"
          ]
        }
      ]
    },
    {
      "cell_type": "code",
      "metadata": {
        "colab": {
          "base_uri": "https://localhost:8080/"
        },
        "id": "yj8fmXO6SNWt",
        "outputId": "7b0773e5-ff2e-48d6-e1a3-929a980eff50"
      },
      "source": [
        "sns.heatmap(cf_matrix, annot=True)"
      ],
      "execution_count": null,
      "outputs": [
        {
          "output_type": "execute_result",
          "data": {
            "text/plain": [
              "<matplotlib.axes._subplots.AxesSubplot at 0x7f5e20256410>"
            ]
          },
          "metadata": {},
          "execution_count": 94
        },
        {
          "output_type": "display_data",
          "data": {
            "image/png": "[encoded data removed]",
            "text/plain": [
              "<Figure size 432x288 with 2 Axes>"
            ]
          },
          "metadata": {
            "needs_background": "light"
          }
        }
      ]
    },
    {
      "cell_type": "markdown",
      "metadata": {
        "id": "7gw5tyyASNWu"
      },
      "source": [
        "### train size : test size = 60% : 40%\n",
        "\n"
      ]
    },
    {
      "cell_type": "code",
      "metadata": {
        "id": "x9SfkggRSNWu"
      },
      "source": [
        "X_train, X_test, y_train, y_test = train_test_split(X, y, test_size=0.4, random_state=0)"
      ],
      "execution_count": null,
      "outputs": []
    },
    {
      "cell_type": "code",
      "metadata": {
        "colab": {
          "base_uri": "https://localhost:8080/"
        },
        "id": "u7ewbnHASNWu",
        "outputId": "3cfe0652-a710-45ca-a520-f878e29cc541"
      },
      "source": [
        "print(len(X_train))\n",
        "print(len(y_test))"
      ],
      "execution_count": null,
      "outputs": [
        {
          "output_type": "stream",
          "name": "stdout",
          "text": [
            "106\n",
            "72\n"
          ]
        }
      ]
    },
    {
      "cell_type": "code",
      "metadata": {
        "colab": {
          "base_uri": "https://localhost:8080/"
        },
        "id": "3unjHKxuSNWu",
        "outputId": "b85ed5cf-c9d3-472a-c01e-db302e5e4531"
      },
      "source": [
        "sigmoid_SVC_classifier.fit(X_train, y_train)"
      ],
      "execution_count": null,
      "outputs": [
        {
          "output_type": "execute_result",
          "data": {
            "text/plain": [
              "SVC(C=1.0, break_ties=False, cache_size=200, class_weight=None, coef0=0.0,\n",
              "    decision_function_shape='ovr', degree=3, gamma='scale', kernel='sigmoid',\n",
              "    max_iter=-1, probability=False, random_state=None, shrinking=True,\n",
              "    tol=0.001, verbose=False)"
            ]
          },
          "metadata": {},
          "execution_count": 97
        }
      ]
    },
    {
      "cell_type": "code",
      "metadata": {
        "colab": {
          "base_uri": "https://localhost:8080/"
        },
        "id": "tQJ5AMSFSNWu",
        "outputId": "49c91c7f-d0f7-4738-fc90-3fb3f2d1a1df"
      },
      "source": [
        "y_pred = sigmoid_SVC_classifier.predict(X_test)\n",
        "print(f\"Accuracy: {100 * accuracy_score(y_test,y_pred)}%\\n\")\n",
        "cf_matrix = confusion_matrix(y_test,y_pred)\n",
        "print(\"Confusion Matrix:\\n\", cf_matrix)\n",
        "print(\"\\nClassification Report:\\n\")\n",
        "print(classification_report(y_test,y_pred))"
      ],
      "execution_count": null,
      "outputs": [
        {
          "output_type": "stream",
          "name": "stdout",
          "text": [
            "Accuracy: 18.055555555555554%\n",
            "\n",
            "Confusion Matrix:\n",
            " [[ 2 20  0]\n",
            " [20 11  0]\n",
            " [15  4  0]]\n",
            "\n",
            "Classification Report:\n",
            "\n",
            "              precision    recall  f1-score   support\n",
            "\n",
            "           0       0.05      0.09      0.07        22\n",
            "           1       0.31      0.35      0.33        31\n",
            "           2       0.00      0.00      0.00        19\n",
            "\n",
            "    accuracy                           0.18        72\n",
            "   macro avg       0.12      0.15      0.13        72\n",
            "weighted avg       0.15      0.18      0.16        72\n",
            "\n"
          ]
        },
        {
          "output_type": "stream",
          "name": "stderr",
          "text": [
            "/usr/local/lib/python3.7/dist-packages/sklearn/metrics/_classification.py:1272: UndefinedMetricWarning: Precision and F-score are ill-defined and being set to 0.0 in labels with no predicted samples. Use `zero_division` parameter to control this behavior.\n",
            "  _warn_prf(average, modifier, msg_start, len(result))\n"
          ]
        }
      ]
    },
    {
      "cell_type": "code",
      "metadata": {
        "colab": {
          "base_uri": "https://localhost:8080/"
        },
        "id": "_QJuwa16SNWu",
        "outputId": "7bf80151-a075-416e-a910-fb461a0bd485"
      },
      "source": [
        "sns.heatmap(cf_matrix, annot=True)"
      ],
      "execution_count": null,
      "outputs": [
        {
          "output_type": "execute_result",
          "data": {
            "text/plain": [
              "<matplotlib.axes._subplots.AxesSubplot at 0x7f5e201a1550>"
            ]
          },
          "metadata": {},
          "execution_count": 99
        },
        {
          "output_type": "display_data",
          "data": {
            "image/png": "[encoded data removed]",
            "text/plain": [
              "<Figure size 432x288 with 2 Axes>"
            ]
          },
          "metadata": {
            "needs_background": "light"
          }
        }
      ]
    },
    {
      "cell_type": "markdown",
      "metadata": {
        "id": "2Xas1zovSNWu"
      },
      "source": [
        "###train size : test size = 50% : 50%"
      ]
    },
    {
      "cell_type": "code",
      "metadata": {
        "id": "RAFP65YJSNWv"
      },
      "source": [
        "X_train, X_test, y_train, y_test = train_test_split(X, y, test_size=0.5, random_state=0)"
      ],
      "execution_count": null,
      "outputs": []
    },
    {
      "cell_type": "code",
      "metadata": {
        "colab": {
          "base_uri": "https://localhost:8080/"
        },
        "id": "pc73jFMdSNWv",
        "outputId": "afa7fa70-f29b-46eb-bfbc-aa79ee88f14f"
      },
      "source": [
        "print(len(X_train))\n",
        "print(len(y_test))"
      ],
      "execution_count": null,
      "outputs": [
        {
          "output_type": "stream",
          "name": "stdout",
          "text": [
            "89\n",
            "89\n"
          ]
        }
      ]
    },
    {
      "cell_type": "code",
      "metadata": {
        "colab": {
          "base_uri": "https://localhost:8080/"
        },
        "id": "y5PXq8MVSNWv",
        "outputId": "60e2f90f-f9fa-41ec-e803-f4d63bc1615d"
      },
      "source": [
        "sigmoid_SVC_classifier.fit(X_train, y_train)"
      ],
      "execution_count": null,
      "outputs": [
        {
          "output_type": "execute_result",
          "data": {
            "text/plain": [
              "SVC(C=1.0, break_ties=False, cache_size=200, class_weight=None, coef0=0.0,\n",
              "    decision_function_shape='ovr', degree=3, gamma='scale', kernel='sigmoid',\n",
              "    max_iter=-1, probability=False, random_state=None, shrinking=True,\n",
              "    tol=0.001, verbose=False)"
            ]
          },
          "metadata": {},
          "execution_count": 102
        }
      ]
    },
    {
      "cell_type": "code",
      "metadata": {
        "colab": {
          "base_uri": "https://localhost:8080/"
        },
        "id": "3DneA8noSNWv",
        "outputId": "1226e15e-550f-4c69-e69c-b6b3dee5c769"
      },
      "source": [
        "y_pred = sigmoid_SVC_classifier.predict(X_test)\n",
        "print(f\"Accuracy: {100 * accuracy_score(y_test,y_pred)}%\\n\")\n",
        "cf_matrix = confusion_matrix(y_test,y_pred)\n",
        "print(\"Confusion Matrix:\\n\", cf_matrix)\n",
        "print(\"\\nClassification Report:\\n\")\n",
        "print(classification_report(y_test,y_pred))"
      ],
      "execution_count": null,
      "outputs": [
        {
          "output_type": "stream",
          "name": "stdout",
          "text": [
            "Accuracy: 17.97752808988764%\n",
            "\n",
            "Confusion Matrix:\n",
            " [[ 7 18  0]\n",
            " [31  9  0]\n",
            " [24  0  0]]\n",
            "\n",
            "Classification Report:\n",
            "\n",
            "              precision    recall  f1-score   support\n",
            "\n",
            "           0       0.11      0.28      0.16        25\n",
            "           1       0.33      0.23      0.27        40\n",
            "           2       0.00      0.00      0.00        24\n",
            "\n",
            "    accuracy                           0.18        89\n",
            "   macro avg       0.15      0.17      0.14        89\n",
            "weighted avg       0.18      0.18      0.17        89\n",
            "\n"
          ]
        },
        {
          "output_type": "stream",
          "name": "stderr",
          "text": [
            "/usr/local/lib/python3.7/dist-packages/sklearn/metrics/_classification.py:1272: UndefinedMetricWarning: Precision and F-score are ill-defined and being set to 0.0 in labels with no predicted samples. Use `zero_division` parameter to control this behavior.\n",
            "  _warn_prf(average, modifier, msg_start, len(result))\n"
          ]
        }
      ]
    },
    {
      "cell_type": "code",
      "metadata": {
        "colab": {
          "base_uri": "https://localhost:8080/"
        },
        "id": "Q0s5UGJ9SNWv",
        "outputId": "ad2445af-e1a4-4646-d6a7-e8fd2e8ab72c"
      },
      "source": [
        "sns.heatmap(cf_matrix, annot=True)"
      ],
      "execution_count": null,
      "outputs": [
        {
          "output_type": "execute_result",
          "data": {
            "text/plain": [
              "<matplotlib.axes._subplots.AxesSubplot at 0x7f5e200d1a50>"
            ]
          },
          "metadata": {},
          "execution_count": 104
        },
        {
          "output_type": "display_data",
          "data": {
            "image/png": "[encoded data removed]",
            "text/plain": [
              "<Figure size 432x288 with 2 Axes>"
            ]
          },
          "metadata": {
            "needs_background": "light"
          }
        }
      ]
    },
    {
      "cell_type": "markdown",
      "metadata": {
        "id": "3C2gQPBSSNWv"
      },
      "source": [
        "###train size : test size = 40% : 60%"
      ]
    },
    {
      "cell_type": "code",
      "metadata": {
        "id": "ajAx2BU6SNWv"
      },
      "source": [
        "X_train, X_test, y_train, y_test = train_test_split(X, y, test_size=0.6, random_state=0)"
      ],
      "execution_count": null,
      "outputs": []
    },
    {
      "cell_type": "code",
      "metadata": {
        "colab": {
          "base_uri": "https://localhost:8080/"
        },
        "id": "16QPfQgxSNWw",
        "outputId": "880bc3d1-61fb-4419-8f9f-6f086e19e0e9"
      },
      "source": [
        "print(len(X_train))\n",
        "print(len(y_test))"
      ],
      "execution_count": null,
      "outputs": [
        {
          "output_type": "stream",
          "name": "stdout",
          "text": [
            "71\n",
            "107\n"
          ]
        }
      ]
    },
    {
      "cell_type": "code",
      "metadata": {
        "colab": {
          "base_uri": "https://localhost:8080/"
        },
        "id": "4WlNHr3ZSNWw",
        "outputId": "af7cdae2-7f11-4e4a-f332-75bfeac0443b"
      },
      "source": [
        "sigmoid_SVC_classifier.fit(X_train, y_train)"
      ],
      "execution_count": null,
      "outputs": [
        {
          "output_type": "execute_result",
          "data": {
            "text/plain": [
              "SVC(C=1.0, break_ties=False, cache_size=200, class_weight=None, coef0=0.0,\n",
              "    decision_function_shape='ovr', degree=3, gamma='scale', kernel='sigmoid',\n",
              "    max_iter=-1, probability=False, random_state=None, shrinking=True,\n",
              "    tol=0.001, verbose=False)"
            ]
          },
          "metadata": {},
          "execution_count": 107
        }
      ]
    },
    {
      "cell_type": "code",
      "metadata": {
        "colab": {
          "base_uri": "https://localhost:8080/"
        },
        "id": "KPsRIMwISNWw",
        "outputId": "f3a82144-2779-40d9-a720-6c712c2258a0"
      },
      "source": [
        "y_pred = sigmoid_SVC_classifier.predict(X_test)\n",
        "print(f\"Accuracy: {100 * accuracy_score(y_test,y_pred)}%\\n\")\n",
        "cf_matrix = confusion_matrix(y_test,y_pred)\n",
        "print(\"Confusion Matrix:\\n\", cf_matrix)\n",
        "print(\"\\nClassification Report:\\n\")\n",
        "print(classification_report(y_test,y_pred))"
      ],
      "execution_count": null,
      "outputs": [
        {
          "output_type": "stream",
          "name": "stdout",
          "text": [
            "Accuracy: 15.887850467289718%\n",
            "\n",
            "Confusion Matrix:\n",
            " [[ 7 27  0]\n",
            " [36 10  0]\n",
            " [27  0  0]]\n",
            "\n",
            "Classification Report:\n",
            "\n",
            "              precision    recall  f1-score   support\n",
            "\n",
            "           0       0.10      0.21      0.13        34\n",
            "           1       0.27      0.22      0.24        46\n",
            "           2       0.00      0.00      0.00        27\n",
            "\n",
            "    accuracy                           0.16       107\n",
            "   macro avg       0.12      0.14      0.13       107\n",
            "weighted avg       0.15      0.16      0.15       107\n",
            "\n"
          ]
        },
        {
          "output_type": "stream",
          "name": "stderr",
          "text": [
            "/usr/local/lib/python3.7/dist-packages/sklearn/metrics/_classification.py:1272: UndefinedMetricWarning: Precision and F-score are ill-defined and being set to 0.0 in labels with no predicted samples. Use `zero_division` parameter to control this behavior.\n",
            "  _warn_prf(average, modifier, msg_start, len(result))\n"
          ]
        }
      ]
    },
    {
      "cell_type": "code",
      "metadata": {
        "colab": {
          "base_uri": "https://localhost:8080/"
        },
        "id": "_mfpItxeSNWw",
        "outputId": "00adcdff-16b1-4260-aaca-a8d26b0ca7c4"
      },
      "source": [
        "sns.heatmap(cf_matrix, annot=True)"
      ],
      "execution_count": null,
      "outputs": [
        {
          "output_type": "execute_result",
          "data": {
            "text/plain": [
              "<matplotlib.axes._subplots.AxesSubplot at 0x7f5e20016910>"
            ]
          },
          "metadata": {},
          "execution_count": 109
        },
        {
          "output_type": "display_data",
          "data": {
            "image/png": "[encoded data removed]",
            "text/plain": [
              "<Figure size 432x288 with 2 Axes>"
            ]
          },
          "metadata": {
            "needs_background": "light"
          }
        }
      ]
    },
    {
      "cell_type": "markdown",
      "metadata": {
        "id": "ff-pzGyMSNWw"
      },
      "source": [
        "###train size : test size = 30% : 70%"
      ]
    },
    {
      "cell_type": "code",
      "metadata": {
        "id": "-FzRrrtSSNWw"
      },
      "source": [
        "X_train, X_test, y_train, y_test = train_test_split(X, y, test_size=0.7, random_state=0)"
      ],
      "execution_count": null,
      "outputs": []
    },
    {
      "cell_type": "code",
      "metadata": {
        "colab": {
          "base_uri": "https://localhost:8080/"
        },
        "id": "yXWszrj_SNWw",
        "outputId": "fc18396c-fb1e-4a7f-d4df-56916187906e"
      },
      "source": [
        "print(len(X_train))\n",
        "print(len(y_test))"
      ],
      "execution_count": null,
      "outputs": [
        {
          "output_type": "stream",
          "name": "stdout",
          "text": [
            "53\n",
            "125\n"
          ]
        }
      ]
    },
    {
      "cell_type": "code",
      "metadata": {
        "colab": {
          "base_uri": "https://localhost:8080/"
        },
        "id": "UnfGohVqSNWw",
        "outputId": "ce6b0369-cd80-4b1e-f623-8b93817f430b"
      },
      "source": [
        "sigmoid_SVC_classifier.fit(X_train, y_train)"
      ],
      "execution_count": null,
      "outputs": [
        {
          "output_type": "execute_result",
          "data": {
            "text/plain": [
              "SVC(C=1.0, break_ties=False, cache_size=200, class_weight=None, coef0=0.0,\n",
              "    decision_function_shape='ovr', degree=3, gamma='scale', kernel='sigmoid',\n",
              "    max_iter=-1, probability=False, random_state=None, shrinking=True,\n",
              "    tol=0.001, verbose=False)"
            ]
          },
          "metadata": {},
          "execution_count": 112
        }
      ]
    },
    {
      "cell_type": "code",
      "metadata": {
        "colab": {
          "base_uri": "https://localhost:8080/"
        },
        "id": "KsF4lP47SNWx",
        "outputId": "616d6f11-d0f1-4c01-ddfc-bae01cbb27af"
      },
      "source": [
        "y_pred = sigmoid_SVC_classifier.predict(X_test)\n",
        "print(f\"Accuracy: {100 * accuracy_score(y_test,y_pred)}%\\n\")\n",
        "cf_matrix = confusion_matrix(y_test,y_pred)\n",
        "print(\"Confusion Matrix:\\n\", cf_matrix)\n",
        "print(\"\\nClassification Report:\\n\")\n",
        "print(classification_report(y_test,y_pred))"
      ],
      "execution_count": null,
      "outputs": [
        {
          "output_type": "stream",
          "name": "stdout",
          "text": [
            "Accuracy: 41.6%\n",
            "\n",
            "Confusion Matrix:\n",
            " [[ 0 42  0]\n",
            " [ 0 52  0]\n",
            " [ 0 31  0]]\n",
            "\n",
            "Classification Report:\n",
            "\n",
            "              precision    recall  f1-score   support\n",
            "\n",
            "           0       0.00      0.00      0.00        42\n",
            "           1       0.42      1.00      0.59        52\n",
            "           2       0.00      0.00      0.00        31\n",
            "\n",
            "    accuracy                           0.42       125\n",
            "   macro avg       0.14      0.33      0.20       125\n",
            "weighted avg       0.17      0.42      0.24       125\n",
            "\n"
          ]
        },
        {
          "output_type": "stream",
          "name": "stderr",
          "text": [
            "/usr/local/lib/python3.7/dist-packages/sklearn/metrics/_classification.py:1272: UndefinedMetricWarning: Precision and F-score are ill-defined and being set to 0.0 in labels with no predicted samples. Use `zero_division` parameter to control this behavior.\n",
            "  _warn_prf(average, modifier, msg_start, len(result))\n"
          ]
        }
      ]
    },
    {
      "cell_type": "code",
      "metadata": {
        "colab": {
          "base_uri": "https://localhost:8080/"
        },
        "id": "4c8quXQGSNWx",
        "outputId": "b1339028-6769-4ae2-dd0e-844d55ad5eb8"
      },
      "source": [
        "sns.heatmap(cf_matrix, annot=True)"
      ],
      "execution_count": null,
      "outputs": [
        {
          "output_type": "execute_result",
          "data": {
            "text/plain": [
              "<matplotlib.axes._subplots.AxesSubplot at 0x7f5e1ff59190>"
            ]
          },
          "metadata": {},
          "execution_count": 114
        },
        {
          "output_type": "display_data",
          "data": {
            "image/png": "[encoded data removed]",
            "text/plain": [
              "<Figure size 432x288 with 2 Axes>"
            ]
          },
          "metadata": {
            "needs_background": "light"
          }
        }
      ]
    },
    {
      "cell_type": "markdown",
      "metadata": {
        "id": "C__nIR6RUsIp"
      },
      "source": [
        "#MLP Classifier"
      ]
    },
    {
      "cell_type": "code",
      "metadata": {
        "colab": {
          "base_uri": "https://localhost:8080/"
        },
        "id": "xsxxOFf4Uvxr",
        "outputId": "2e61414a-1291-420e-a3ff-2cc4b48b1e3d"
      },
      "source": [
        "mlp_classifier = MLPClassifier(learning_rate='constant', max_iter=600)\n",
        "mlp_classifier"
      ],
      "execution_count": null,
      "outputs": [
        {
          "output_type": "execute_result",
          "data": {
            "text/plain": [
              "MLPClassifier(activation='relu', alpha=0.0001, batch_size='auto', beta_1=0.9,\n",
              "              beta_2=0.999, early_stopping=False, epsilon=1e-08,\n",
              "              hidden_layer_sizes=(100,), learning_rate='constant',\n",
              "              learning_rate_init=0.001, max_fun=15000, max_iter=600,\n",
              "              momentum=0.9, n_iter_no_change=10, nesterovs_momentum=True,\n",
              "              power_t=0.5, random_state=None, shuffle=True, solver='adam',\n",
              "              tol=0.0001, validation_fraction=0.1, verbose=False,\n",
              "              warm_start=False)"
            ]
          },
          "metadata": {},
          "execution_count": 115
        }
      ]
    },
    {
      "cell_type": "markdown",
      "metadata": {
        "id": "DKaAxw1Kxzgd"
      },
      "source": [
        "###train size : test size = 70% : 30%\n"
      ]
    },
    {
      "cell_type": "code",
      "metadata": {
        "id": "O2c8GAL4xzge"
      },
      "source": [
        "X_train, X_test, y_train, y_test = train_test_split(X, y, test_size=0.3, random_state=0)    # 70% training data, 30% testing data"
      ],
      "execution_count": null,
      "outputs": []
    },
    {
      "cell_type": "code",
      "metadata": {
        "colab": {
          "base_uri": "https://localhost:8080/"
        },
        "id": "ji2OxkQgxzgf",
        "outputId": "745e9034-3242-4cdc-b676-d4b646e72199"
      },
      "source": [
        "print(len(X_train))\n",
        "print(len(y_test))"
      ],
      "execution_count": null,
      "outputs": [
        {
          "output_type": "stream",
          "name": "stdout",
          "text": [
            "124\n",
            "54\n"
          ]
        }
      ]
    },
    {
      "cell_type": "code",
      "metadata": {
        "colab": {
          "base_uri": "https://localhost:8080/"
        },
        "id": "jmk5XrEhxzgg",
        "outputId": "2af55761-fe66-4d2c-ff5f-c955c9165a91"
      },
      "source": [
        "mlp_classifier.fit(X_train, y_train)"
      ],
      "execution_count": null,
      "outputs": [
        {
          "output_type": "execute_result",
          "data": {
            "text/plain": [
              "MLPClassifier(activation='relu', alpha=0.0001, batch_size='auto', beta_1=0.9,\n",
              "              beta_2=0.999, early_stopping=False, epsilon=1e-08,\n",
              "              hidden_layer_sizes=(100,), learning_rate='constant',\n",
              "              learning_rate_init=0.001, max_fun=15000, max_iter=600,\n",
              "              momentum=0.9, n_iter_no_change=10, nesterovs_momentum=True,\n",
              "              power_t=0.5, random_state=None, shuffle=True, solver='adam',\n",
              "              tol=0.0001, validation_fraction=0.1, verbose=False,\n",
              "              warm_start=False)"
            ]
          },
          "metadata": {},
          "execution_count": 118
        }
      ]
    },
    {
      "cell_type": "code",
      "metadata": {
        "colab": {
          "base_uri": "https://localhost:8080/"
        },
        "id": "zImm_RAxxzgg",
        "outputId": "ac0f93e8-a69b-4174-ff6f-1146cb17d467"
      },
      "source": [
        "y_pred = mlp_classifier.predict(X_test)\n",
        "print(f\"Accuracy: {100 * accuracy_score(y_test,y_pred)}%\\n\")\n",
        "cf_matrix = confusion_matrix(y_test,y_pred)\n",
        "print(\"Confusion Matrix:\\n\")\n",
        "print(cf_matrix)\n",
        "print(\"\\nClassification Report:\\n\")\n",
        "print(classification_report(y_test,y_pred))"
      ],
      "execution_count": null,
      "outputs": [
        {
          "output_type": "stream",
          "name": "stdout",
          "text": [
            "Accuracy: 70.37037037037037%\n",
            "\n",
            "Confusion Matrix:\n",
            "\n",
            "[[17  1  1]\n",
            " [ 4 17  1]\n",
            " [ 5  4  4]]\n",
            "\n",
            "Classification Report:\n",
            "\n",
            "              precision    recall  f1-score   support\n",
            "\n",
            "           0       0.65      0.89      0.76        19\n",
            "           1       0.77      0.77      0.77        22\n",
            "           2       0.67      0.31      0.42        13\n",
            "\n",
            "    accuracy                           0.70        54\n",
            "   macro avg       0.70      0.66      0.65        54\n",
            "weighted avg       0.71      0.70      0.68        54\n",
            "\n"
          ]
        }
      ]
    },
    {
      "cell_type": "code",
      "metadata": {
        "colab": {
          "base_uri": "https://localhost:8080/"
        },
        "id": "xMzfRIRpxzgh",
        "outputId": "d6fa3280-ddfd-4a26-fe3a-ab197fa9afa9"
      },
      "source": [
        "sns.heatmap(cf_matrix, annot=True)"
      ],
      "execution_count": null,
      "outputs": [
        {
          "output_type": "execute_result",
          "data": {
            "text/plain": [
              "<matplotlib.axes._subplots.AxesSubplot at 0x7f5e208b7cd0>"
            ]
          },
          "metadata": {},
          "execution_count": 120
        },
        {
          "output_type": "display_data",
          "data": {
            "image/png": "[encoded data removed]",
            "text/plain": [
              "<Figure size 432x288 with 2 Axes>"
            ]
          },
          "metadata": {
            "needs_background": "light"
          }
        }
      ]
    },
    {
      "cell_type": "markdown",
      "metadata": {
        "id": "uiwY03Ntxzgi"
      },
      "source": [
        "###train size : test size = 60% : 40%"
      ]
    },
    {
      "cell_type": "code",
      "metadata": {
        "id": "vKk1tQ3Oxzgi"
      },
      "source": [
        "X_train, X_test, y_train, y_test = train_test_split(X, y, test_size=0.4, random_state=0)    # 60% training data, 40% testing data"
      ],
      "execution_count": null,
      "outputs": []
    },
    {
      "cell_type": "code",
      "metadata": {
        "colab": {
          "base_uri": "https://localhost:8080/"
        },
        "id": "qIED7yv6xzgj",
        "outputId": "2c59c0c2-4b8c-4108-83d1-4e4f61de2ee1"
      },
      "source": [
        "print(len(X_train))\n",
        "print(len(y_test))"
      ],
      "execution_count": null,
      "outputs": [
        {
          "output_type": "stream",
          "name": "stdout",
          "text": [
            "106\n",
            "72\n"
          ]
        }
      ]
    },
    {
      "cell_type": "code",
      "metadata": {
        "colab": {
          "base_uri": "https://localhost:8080/"
        },
        "id": "rwj2FBf0xzgk",
        "outputId": "b66e8e5c-0eb8-4395-9041-a2b1a1b5764a"
      },
      "source": [
        "mlp_classifier.fit(X_train, y_train)"
      ],
      "execution_count": null,
      "outputs": [
        {
          "output_type": "stream",
          "name": "stderr",
          "text": [
            "/usr/local/lib/python3.7/dist-packages/sklearn/neural_network/_multilayer_perceptron.py:571: ConvergenceWarning: Stochastic Optimizer: Maximum iterations (600) reached and the optimization hasn't converged yet.\n",
            "  % self.max_iter, ConvergenceWarning)\n"
          ]
        },
        {
          "output_type": "execute_result",
          "data": {
            "text/plain": [
              "MLPClassifier(activation='relu', alpha=0.0001, batch_size='auto', beta_1=0.9,\n",
              "              beta_2=0.999, early_stopping=False, epsilon=1e-08,\n",
              "              hidden_layer_sizes=(100,), learning_rate='constant',\n",
              "              learning_rate_init=0.001, max_fun=15000, max_iter=600,\n",
              "              momentum=0.9, n_iter_no_change=10, nesterovs_momentum=True,\n",
              "              power_t=0.5, random_state=None, shuffle=True, solver='adam',\n",
              "              tol=0.0001, validation_fraction=0.1, verbose=False,\n",
              "              warm_start=False)"
            ]
          },
          "metadata": {},
          "execution_count": 123
        }
      ]
    },
    {
      "cell_type": "code",
      "metadata": {
        "colab": {
          "base_uri": "https://localhost:8080/"
        },
        "id": "mNGRapnCxzgk",
        "outputId": "f0accd1a-4403-4803-8203-195928656138"
      },
      "source": [
        "y_pred = mlp_classifier.predict(X_test)\n",
        "print(f\"Accuracy: {100 * accuracy_score(y_test,y_pred)}%\\n\")\n",
        "cf_matrix = confusion_matrix(y_test,y_pred)\n",
        "print(\"Confusion Matrix:\")\n",
        "print(cf_matrix)\n",
        "print(\"\\nClassification Report:\\n\")\n",
        "print(classification_report(y_test,y_pred))"
      ],
      "execution_count": null,
      "outputs": [
        {
          "output_type": "stream",
          "name": "stdout",
          "text": [
            "Accuracy: 94.44444444444444%\n",
            "\n",
            "Confusion Matrix:\n",
            "[[20  2  0]\n",
            " [ 0 29  2]\n",
            " [ 0  0 19]]\n",
            "\n",
            "Classification Report:\n",
            "\n",
            "              precision    recall  f1-score   support\n",
            "\n",
            "           0       1.00      0.91      0.95        22\n",
            "           1       0.94      0.94      0.94        31\n",
            "           2       0.90      1.00      0.95        19\n",
            "\n",
            "    accuracy                           0.94        72\n",
            "   macro avg       0.95      0.95      0.95        72\n",
            "weighted avg       0.95      0.94      0.94        72\n",
            "\n"
          ]
        }
      ]
    },
    {
      "cell_type": "code",
      "metadata": {
        "colab": {
          "base_uri": "https://localhost:8080/"
        },
        "id": "Be6Jr_zHxzgq",
        "outputId": "d612cb77-fbda-45c1-ad01-baf42c19492d"
      },
      "source": [
        "sns.heatmap(cf_matrix, annot=True)"
      ],
      "execution_count": null,
      "outputs": [
        {
          "output_type": "execute_result",
          "data": {
            "text/plain": [
              "<matplotlib.axes._subplots.AxesSubplot at 0x7f5e1fdcea10>"
            ]
          },
          "metadata": {},
          "execution_count": 125
        },
        {
          "output_type": "display_data",
          "data": {
            "image/png": "[encoded data removed]",
            "text/plain": [
              "<Figure size 432x288 with 2 Axes>"
            ]
          },
          "metadata": {
            "needs_background": "light"
          }
        }
      ]
    },
    {
      "cell_type": "markdown",
      "metadata": {
        "id": "Rl7vf-Jqxzgq"
      },
      "source": [
        "###train size : test size = 50% : 50%"
      ]
    },
    {
      "cell_type": "code",
      "metadata": {
        "id": "PEpvdtjbxzgr"
      },
      "source": [
        "X_train, X_test, y_train, y_test = train_test_split(X, y, test_size=0.5, random_state=0)    # 50% training data, 50% testing data"
      ],
      "execution_count": null,
      "outputs": []
    },
    {
      "cell_type": "code",
      "metadata": {
        "colab": {
          "base_uri": "https://localhost:8080/"
        },
        "id": "ulfuhdFDxzgr",
        "outputId": "7a667197-a111-44da-c97d-c2d02b7c5dec"
      },
      "source": [
        "print(len(X_train))\n",
        "print(len(y_test))"
      ],
      "execution_count": null,
      "outputs": [
        {
          "output_type": "stream",
          "name": "stdout",
          "text": [
            "89\n",
            "89\n"
          ]
        }
      ]
    },
    {
      "cell_type": "code",
      "metadata": {
        "colab": {
          "base_uri": "https://localhost:8080/"
        },
        "id": "Wc4HgXtPxzgs",
        "outputId": "80ffc74a-e57b-4637-c66a-03faf4806d08"
      },
      "source": [
        "mlp_classifier.fit(X_train, y_train)"
      ],
      "execution_count": null,
      "outputs": [
        {
          "output_type": "execute_result",
          "data": {
            "text/plain": [
              "MLPClassifier(activation='relu', alpha=0.0001, batch_size='auto', beta_1=0.9,\n",
              "              beta_2=0.999, early_stopping=False, epsilon=1e-08,\n",
              "              hidden_layer_sizes=(100,), learning_rate='constant',\n",
              "              learning_rate_init=0.001, max_fun=15000, max_iter=600,\n",
              "              momentum=0.9, n_iter_no_change=10, nesterovs_momentum=True,\n",
              "              power_t=0.5, random_state=None, shuffle=True, solver='adam',\n",
              "              tol=0.0001, validation_fraction=0.1, verbose=False,\n",
              "              warm_start=False)"
            ]
          },
          "metadata": {},
          "execution_count": 128
        }
      ]
    },
    {
      "cell_type": "code",
      "metadata": {
        "colab": {
          "base_uri": "https://localhost:8080/"
        },
        "id": "jr71B-rWxzgt",
        "outputId": "e9e2114d-3aaf-4816-a6a3-63043fefed0b"
      },
      "source": [
        "y_pred = mlp_classifier.predict(X_test)\n",
        "print(f\"Accuracy: {100 * accuracy_score(y_test,y_pred)}%\\n\")\n",
        "cf_matrix = confusion_matrix(y_test,y_pred)\n",
        "print(\"Confusion Matrix:\")\n",
        "print(cf_matrix)\n",
        "print(\"\\nClassification Report:\\n\")\n",
        "print(classification_report(y_test,y_pred))"
      ],
      "execution_count": null,
      "outputs": [
        {
          "output_type": "stream",
          "name": "stdout",
          "text": [
            "Accuracy: 26.96629213483146%\n",
            "\n",
            "Confusion Matrix:\n",
            "[[ 0  0 25]\n",
            " [ 0  0 40]\n",
            " [ 0  0 24]]\n",
            "\n",
            "Classification Report:\n",
            "\n",
            "              precision    recall  f1-score   support\n",
            "\n",
            "           0       0.00      0.00      0.00        25\n",
            "           1       0.00      0.00      0.00        40\n",
            "           2       0.27      1.00      0.42        24\n",
            "\n",
            "    accuracy                           0.27        89\n",
            "   macro avg       0.09      0.33      0.14        89\n",
            "weighted avg       0.07      0.27      0.11        89\n",
            "\n"
          ]
        },
        {
          "output_type": "stream",
          "name": "stderr",
          "text": [
            "/usr/local/lib/python3.7/dist-packages/sklearn/metrics/_classification.py:1272: UndefinedMetricWarning: Precision and F-score are ill-defined and being set to 0.0 in labels with no predicted samples. Use `zero_division` parameter to control this behavior.\n",
            "  _warn_prf(average, modifier, msg_start, len(result))\n"
          ]
        }
      ]
    },
    {
      "cell_type": "code",
      "metadata": {
        "colab": {
          "base_uri": "https://localhost:8080/"
        },
        "id": "PPdpJQPHxzgu",
        "outputId": "f662e3c1-1345-4821-c952-cb5f2d173b86"
      },
      "source": [
        "sns.heatmap(cf_matrix, annot=True)"
      ],
      "execution_count": null,
      "outputs": [
        {
          "output_type": "execute_result",
          "data": {
            "text/plain": [
              "<matplotlib.axes._subplots.AxesSubplot at 0x7f5e1fd5ae90>"
            ]
          },
          "metadata": {},
          "execution_count": 130
        },
        {
          "output_type": "display_data",
          "data": {
            "image/png": "[encoded data removed]",
            "text/plain": [
              "<Figure size 432x288 with 2 Axes>"
            ]
          },
          "metadata": {
            "needs_background": "light"
          }
        }
      ]
    },
    {
      "cell_type": "markdown",
      "metadata": {
        "id": "ly-1m961xzgu"
      },
      "source": [
        "###train size : test size = 40% : 60%"
      ]
    },
    {
      "cell_type": "code",
      "metadata": {
        "id": "OfX1clBaxzgv"
      },
      "source": [
        "X_train, X_test, y_train, y_test = train_test_split(X, y, test_size=0.6, random_state=0)"
      ],
      "execution_count": null,
      "outputs": []
    },
    {
      "cell_type": "code",
      "metadata": {
        "colab": {
          "base_uri": "https://localhost:8080/"
        },
        "id": "NfIxQXAAxzgv",
        "outputId": "cd4a303b-a2de-447c-e3c0-4ddfd3480adb"
      },
      "source": [
        "print(len(X_train))\n",
        "print(len(y_test))"
      ],
      "execution_count": null,
      "outputs": [
        {
          "output_type": "stream",
          "name": "stdout",
          "text": [
            "71\n",
            "107\n"
          ]
        }
      ]
    },
    {
      "cell_type": "code",
      "metadata": {
        "colab": {
          "base_uri": "https://localhost:8080/"
        },
        "id": "-bbbXFWXxzgw",
        "outputId": "5ab8229d-926f-484e-de11-387cd84a3f14"
      },
      "source": [
        "mlp_classifier.fit(X_train, y_train)"
      ],
      "execution_count": null,
      "outputs": [
        {
          "output_type": "execute_result",
          "data": {
            "text/plain": [
              "MLPClassifier(activation='relu', alpha=0.0001, batch_size='auto', beta_1=0.9,\n",
              "              beta_2=0.999, early_stopping=False, epsilon=1e-08,\n",
              "              hidden_layer_sizes=(100,), learning_rate='constant',\n",
              "              learning_rate_init=0.001, max_fun=15000, max_iter=600,\n",
              "              momentum=0.9, n_iter_no_change=10, nesterovs_momentum=True,\n",
              "              power_t=0.5, random_state=None, shuffle=True, solver='adam',\n",
              "              tol=0.0001, validation_fraction=0.1, verbose=False,\n",
              "              warm_start=False)"
            ]
          },
          "metadata": {},
          "execution_count": 133
        }
      ]
    },
    {
      "cell_type": "code",
      "metadata": {
        "colab": {
          "base_uri": "https://localhost:8080/"
        },
        "id": "WFpUKl5rxzgw",
        "outputId": "c59793cd-0b8f-4b30-f4e0-451569bc2703"
      },
      "source": [
        "y_pred = mlp_classifier.predict(X_test)\n",
        "print(f\"Accuracy: {100 * accuracy_score(y_test,y_pred)}%\\n\")\n",
        "cf_matrix = confusion_matrix(y_test,y_pred)\n",
        "print(\"Confusion Matrix:\\n\")\n",
        "print(cf_matrix)\n",
        "print(\"\\nClassification Report:\\n\")\n",
        "print(classification_report(y_test,y_pred))"
      ],
      "execution_count": null,
      "outputs": [
        {
          "output_type": "stream",
          "name": "stdout",
          "text": [
            "Accuracy: 40.18691588785047%\n",
            "\n",
            "Confusion Matrix:\n",
            "\n",
            "[[34  0  0]\n",
            " [19  0 27]\n",
            " [18  0  9]]\n",
            "\n",
            "Classification Report:\n",
            "\n",
            "              precision    recall  f1-score   support\n",
            "\n",
            "           0       0.48      1.00      0.65        34\n",
            "           1       0.00      0.00      0.00        46\n",
            "           2       0.25      0.33      0.29        27\n",
            "\n",
            "    accuracy                           0.40       107\n",
            "   macro avg       0.24      0.44      0.31       107\n",
            "weighted avg       0.22      0.40      0.28       107\n",
            "\n"
          ]
        },
        {
          "output_type": "stream",
          "name": "stderr",
          "text": [
            "/usr/local/lib/python3.7/dist-packages/sklearn/metrics/_classification.py:1272: UndefinedMetricWarning: Precision and F-score are ill-defined and being set to 0.0 in labels with no predicted samples. Use `zero_division` parameter to control this behavior.\n",
            "  _warn_prf(average, modifier, msg_start, len(result))\n"
          ]
        }
      ]
    },
    {
      "cell_type": "code",
      "metadata": {
        "colab": {
          "base_uri": "https://localhost:8080/"
        },
        "id": "BaJ53e59xzgx",
        "outputId": "d05ffbe4-daca-4576-bc63-8c249f928a8d"
      },
      "source": [
        "sns.heatmap(cf_matrix, annot=True)"
      ],
      "execution_count": null,
      "outputs": [
        {
          "output_type": "execute_result",
          "data": {
            "text/plain": [
              "<matplotlib.axes._subplots.AxesSubplot at 0x7f5e1fcf5790>"
            ]
          },
          "metadata": {},
          "execution_count": 135
        },
        {
          "output_type": "display_data",
          "data": {
            "image/png": "[encoded data removed]",
            "text/plain": [
              "<Figure size 432x288 with 2 Axes>"
            ]
          },
          "metadata": {
            "needs_background": "light"
          }
        }
      ]
    },
    {
      "cell_type": "markdown",
      "metadata": {
        "id": "oOgi59I7xzgx"
      },
      "source": [
        "###train size : test size = 30% : 70%"
      ]
    },
    {
      "cell_type": "code",
      "metadata": {
        "id": "OHdz2WLFxzgy"
      },
      "source": [
        "X_train, X_test, y_train, y_test = train_test_split(X, y, test_size=0.7, random_state=0)"
      ],
      "execution_count": null,
      "outputs": []
    },
    {
      "cell_type": "code",
      "metadata": {
        "colab": {
          "base_uri": "https://localhost:8080/"
        },
        "id": "I1G1_1lCxzgy",
        "outputId": "425b3037-38e0-439d-d128-64fd752554b7"
      },
      "source": [
        "print(len(X_train))\n",
        "print(len(y_test))"
      ],
      "execution_count": null,
      "outputs": [
        {
          "output_type": "stream",
          "name": "stdout",
          "text": [
            "53\n",
            "125\n"
          ]
        }
      ]
    },
    {
      "cell_type": "code",
      "metadata": {
        "colab": {
          "base_uri": "https://localhost:8080/"
        },
        "id": "3aGeuG16xzgz",
        "outputId": "53ba6469-30b1-4ea3-b393-dc90dcc69006"
      },
      "source": [
        "mlp_classifier.fit(X_train, y_train)"
      ],
      "execution_count": null,
      "outputs": [
        {
          "output_type": "execute_result",
          "data": {
            "text/plain": [
              "MLPClassifier(activation='relu', alpha=0.0001, batch_size='auto', beta_1=0.9,\n",
              "              beta_2=0.999, early_stopping=False, epsilon=1e-08,\n",
              "              hidden_layer_sizes=(100,), learning_rate='constant',\n",
              "              learning_rate_init=0.001, max_fun=15000, max_iter=600,\n",
              "              momentum=0.9, n_iter_no_change=10, nesterovs_momentum=True,\n",
              "              power_t=0.5, random_state=None, shuffle=True, solver='adam',\n",
              "              tol=0.0001, validation_fraction=0.1, verbose=False,\n",
              "              warm_start=False)"
            ]
          },
          "metadata": {},
          "execution_count": 138
        }
      ]
    },
    {
      "cell_type": "code",
      "metadata": {
        "colab": {
          "base_uri": "https://localhost:8080/"
        },
        "id": "br89vQBrxzgz",
        "outputId": "ec5ebba8-89c3-4550-b1f5-156b1c22275f"
      },
      "source": [
        "y_pred = mlp_classifier.predict(X_test)\n",
        "print(f\"Accuracy: {100 * accuracy_score(y_test,y_pred)}%\\n\")\n",
        "cf_matrix = confusion_matrix(y_test,y_pred)\n",
        "print(\"Confusion Matrix:\\n\")\n",
        "print(cf_matrix)\n",
        "print(\"\\nClassification Report:\\n\")\n",
        "print(classification_report(y_test,y_pred))"
      ],
      "execution_count": null,
      "outputs": [
        {
          "output_type": "stream",
          "name": "stdout",
          "text": [
            "Accuracy: 15.2%\n",
            "\n",
            "Confusion Matrix:\n",
            "\n",
            "[[ 2 40  0]\n",
            " [35 17  0]\n",
            " [14 17  0]]\n",
            "\n",
            "Classification Report:\n",
            "\n",
            "              precision    recall  f1-score   support\n",
            "\n",
            "           0       0.04      0.05      0.04        42\n",
            "           1       0.23      0.33      0.27        52\n",
            "           2       0.00      0.00      0.00        31\n",
            "\n",
            "    accuracy                           0.15       125\n",
            "   macro avg       0.09      0.12      0.10       125\n",
            "weighted avg       0.11      0.15      0.13       125\n",
            "\n"
          ]
        },
        {
          "output_type": "stream",
          "name": "stderr",
          "text": [
            "/usr/local/lib/python3.7/dist-packages/sklearn/metrics/_classification.py:1272: UndefinedMetricWarning: Precision and F-score are ill-defined and being set to 0.0 in labels with no predicted samples. Use `zero_division` parameter to control this behavior.\n",
            "  _warn_prf(average, modifier, msg_start, len(result))\n"
          ]
        }
      ]
    },
    {
      "cell_type": "code",
      "metadata": {
        "colab": {
          "base_uri": "https://localhost:8080/"
        },
        "id": "GiuZg-Xcxzg0",
        "outputId": "a7ddeb75-3ebc-42aa-fa0b-6b0f93861228"
      },
      "source": [
        "sns.heatmap(cf_matrix, annot=True)"
      ],
      "execution_count": null,
      "outputs": [
        {
          "output_type": "execute_result",
          "data": {
            "text/plain": [
              "<matplotlib.axes._subplots.AxesSubplot at 0x7f5e200c8810>"
            ]
          },
          "metadata": {},
          "execution_count": 140
        },
        {
          "output_type": "display_data",
          "data": {
            "image/png": "[encoded data removed]",
            "text/plain": [
              "<Figure size 432x288 with 2 Axes>"
            ]
          },
          "metadata": {
            "needs_background": "light"
          }
        }
      ]
    },
    {
      "cell_type": "markdown",
      "metadata": {
        "id": "UHu0SjospdlA"
      },
      "source": [
        "#Random Forest Classifier"
      ]
    },
    {
      "cell_type": "code",
      "metadata": {
        "colab": {
          "base_uri": "https://localhost:8080/"
        },
        "id": "GL75W2eZpdlR",
        "outputId": "277ace19-f3b1-470a-8464-7f32e33d52ac"
      },
      "source": [
        "rfc_classifier = RandomForestClassifier(n_estimators=20)\n",
        "rfc_classifier"
      ],
      "execution_count": null,
      "outputs": [
        {
          "output_type": "execute_result",
          "data": {
            "text/plain": [
              "RandomForestClassifier(bootstrap=True, ccp_alpha=0.0, class_weight=None,\n",
              "                       criterion='gini', max_depth=None, max_features='auto',\n",
              "                       max_leaf_nodes=None, max_samples=None,\n",
              "                       min_impurity_decrease=0.0, min_impurity_split=None,\n",
              "                       min_samples_leaf=1, min_samples_split=2,\n",
              "                       min_weight_fraction_leaf=0.0, n_estimators=20,\n",
              "                       n_jobs=None, oob_score=False, random_state=None,\n",
              "                       verbose=0, warm_start=False)"
            ]
          },
          "metadata": {},
          "execution_count": 141
        }
      ]
    },
    {
      "cell_type": "markdown",
      "metadata": {
        "id": "Tw1axynhwnJ8"
      },
      "source": [
        "###train size : test size = 70% : 30%\n"
      ]
    },
    {
      "cell_type": "code",
      "metadata": {
        "id": "YVSEaxvownKP"
      },
      "source": [
        "X_train, X_test, y_train, y_test = train_test_split(X, y, test_size=0.3, random_state=0)    # 70% training data, 30% testing data"
      ],
      "execution_count": null,
      "outputs": []
    },
    {
      "cell_type": "code",
      "metadata": {
        "colab": {
          "base_uri": "https://localhost:8080/"
        },
        "id": "9_23B2-6wnKQ",
        "outputId": "4ca72a36-5000-4c44-857d-e19bdfc2b695"
      },
      "source": [
        "print(len(X_train))\n",
        "print(len(y_test))"
      ],
      "execution_count": null,
      "outputs": [
        {
          "output_type": "stream",
          "name": "stdout",
          "text": [
            "124\n",
            "54\n"
          ]
        }
      ]
    },
    {
      "cell_type": "code",
      "metadata": {
        "colab": {
          "base_uri": "https://localhost:8080/"
        },
        "id": "6yeMLkrEwnKQ",
        "outputId": "fdd43baa-7a86-4df5-dc98-b679d32625c7"
      },
      "source": [
        "rfc_classifier.fit(X_train, y_train)"
      ],
      "execution_count": null,
      "outputs": [
        {
          "output_type": "execute_result",
          "data": {
            "text/plain": [
              "RandomForestClassifier(bootstrap=True, ccp_alpha=0.0, class_weight=None,\n",
              "                       criterion='gini', max_depth=None, max_features='auto',\n",
              "                       max_leaf_nodes=None, max_samples=None,\n",
              "                       min_impurity_decrease=0.0, min_impurity_split=None,\n",
              "                       min_samples_leaf=1, min_samples_split=2,\n",
              "                       min_weight_fraction_leaf=0.0, n_estimators=20,\n",
              "                       n_jobs=None, oob_score=False, random_state=None,\n",
              "                       verbose=0, warm_start=False)"
            ]
          },
          "metadata": {},
          "execution_count": 144
        }
      ]
    },
    {
      "cell_type": "code",
      "metadata": {
        "colab": {
          "base_uri": "https://localhost:8080/"
        },
        "id": "s2SZmzDwwnKR",
        "outputId": "02e30855-f52d-477c-af3c-20f257ba8856"
      },
      "source": [
        "y_pred = rfc_classifier.predict(X_test)\n",
        "print(f\"Accuracy: {100 * accuracy_score(y_test,y_pred)}%\\n\")\n",
        "cf_matrix = confusion_matrix(y_test,y_pred)\n",
        "print(\"Confusion Matrix:\\n\")\n",
        "print(cf_matrix)\n",
        "print(\"\\nClassification Report:\\n\")\n",
        "print(classification_report(y_test,y_pred))"
      ],
      "execution_count": null,
      "outputs": [
        {
          "output_type": "stream",
          "name": "stdout",
          "text": [
            "Accuracy: 96.29629629629629%\n",
            "\n",
            "Confusion Matrix:\n",
            "\n",
            "[[19  0  0]\n",
            " [ 1 20  1]\n",
            " [ 0  0 13]]\n",
            "\n",
            "Classification Report:\n",
            "\n",
            "              precision    recall  f1-score   support\n",
            "\n",
            "           0       0.95      1.00      0.97        19\n",
            "           1       1.00      0.91      0.95        22\n",
            "           2       0.93      1.00      0.96        13\n",
            "\n",
            "    accuracy                           0.96        54\n",
            "   macro avg       0.96      0.97      0.96        54\n",
            "weighted avg       0.97      0.96      0.96        54\n",
            "\n"
          ]
        }
      ]
    },
    {
      "cell_type": "code",
      "metadata": {
        "colab": {
          "base_uri": "https://localhost:8080/",
          "height": 286
        },
        "id": "0HL_D1X7wnKR",
        "outputId": "38ff8a44-7cca-4db0-e176-45f539cdb901"
      },
      "source": [
        "sns.heatmap(cf_matrix, annot=True)"
      ],
      "execution_count": null,
      "outputs": [
        {
          "output_type": "execute_result",
          "data": {
            "text/plain": [
              "<matplotlib.axes._subplots.AxesSubplot at 0x7f5e1fcb77d0>"
            ]
          },
          "metadata": {},
          "execution_count": 146
        },
        {
          "output_type": "display_data",
          "data": {
            "image/png": "[encoded data removed]",
            "text/plain": [
              "<Figure size 432x288 with 2 Axes>"
            ]
          },
          "metadata": {
            "needs_background": "light"
          }
        }
      ]
    },
    {
      "cell_type": "markdown",
      "metadata": {
        "id": "REs3N5eUwnKR"
      },
      "source": [
        "###train size : test size = 60% : 40%"
      ]
    },
    {
      "cell_type": "code",
      "metadata": {
        "id": "sVjoUCSHwnKR"
      },
      "source": [
        "X_train, X_test, y_train, y_test = train_test_split(X, y, test_size=0.4, random_state=0)    # 60% training data, 40% testing data"
      ],
      "execution_count": null,
      "outputs": []
    },
    {
      "cell_type": "code",
      "metadata": {
        "colab": {
          "base_uri": "https://localhost:8080/"
        },
        "id": "aOOdAVMPwnKS",
        "outputId": "d6f575dd-7760-4311-f2d1-089837b77bef"
      },
      "source": [
        "print(len(X_train))\n",
        "print(len(y_test))"
      ],
      "execution_count": null,
      "outputs": [
        {
          "output_type": "stream",
          "name": "stdout",
          "text": [
            "106\n",
            "72\n"
          ]
        }
      ]
    },
    {
      "cell_type": "code",
      "metadata": {
        "colab": {
          "base_uri": "https://localhost:8080/"
        },
        "id": "2rjgkRQnwnKS",
        "outputId": "28552d2c-af5c-4bbe-f913-8e26b13a0803"
      },
      "source": [
        "rfc_classifier.fit(X_train, y_train)"
      ],
      "execution_count": null,
      "outputs": [
        {
          "output_type": "execute_result",
          "data": {
            "text/plain": [
              "RandomForestClassifier(bootstrap=True, ccp_alpha=0.0, class_weight=None,\n",
              "                       criterion='gini', max_depth=None, max_features='auto',\n",
              "                       max_leaf_nodes=None, max_samples=None,\n",
              "                       min_impurity_decrease=0.0, min_impurity_split=None,\n",
              "                       min_samples_leaf=1, min_samples_split=2,\n",
              "                       min_weight_fraction_leaf=0.0, n_estimators=20,\n",
              "                       n_jobs=None, oob_score=False, random_state=None,\n",
              "                       verbose=0, warm_start=False)"
            ]
          },
          "metadata": {},
          "execution_count": 149
        }
      ]
    },
    {
      "cell_type": "code",
      "metadata": {
        "colab": {
          "base_uri": "https://localhost:8080/"
        },
        "id": "1kIV2pCxwnKS",
        "outputId": "79eba455-3014-4dca-e4ad-035c513ea626"
      },
      "source": [
        "y_pred = rfc_classifier.predict(X_test)\n",
        "print(f\"Accuracy: {100 * accuracy_score(y_test,y_pred)}%\\n\")\n",
        "cf_matrix = confusion_matrix(y_test,y_pred)\n",
        "print(\"Confusion Matrix:\")\n",
        "print(cf_matrix)\n",
        "print(\"\\nClassification Report:\\n\")\n",
        "print(classification_report(y_test,y_pred))"
      ],
      "execution_count": null,
      "outputs": [
        {
          "output_type": "stream",
          "name": "stdout",
          "text": [
            "Accuracy: 97.22222222222221%\n",
            "\n",
            "Confusion Matrix:\n",
            "[[22  0  0]\n",
            " [ 0 29  2]\n",
            " [ 0  0 19]]\n",
            "\n",
            "Classification Report:\n",
            "\n",
            "              precision    recall  f1-score   support\n",
            "\n",
            "           0       1.00      1.00      1.00        22\n",
            "           1       1.00      0.94      0.97        31\n",
            "           2       0.90      1.00      0.95        19\n",
            "\n",
            "    accuracy                           0.97        72\n",
            "   macro avg       0.97      0.98      0.97        72\n",
            "weighted avg       0.97      0.97      0.97        72\n",
            "\n"
          ]
        }
      ]
    },
    {
      "cell_type": "code",
      "metadata": {
        "colab": {
          "base_uri": "https://localhost:8080/",
          "height": 282
        },
        "id": "DFMwQJZRwnKT",
        "outputId": "d9b93dd8-529f-45f1-c5f4-22c483ab48e0"
      },
      "source": [
        "sns.heatmap(cf_matrix, annot=True)"
      ],
      "execution_count": null,
      "outputs": [
        {
          "output_type": "execute_result",
          "data": {
            "text/plain": [
              "<matplotlib.axes._subplots.AxesSubplot at 0x7f5e1faabc10>"
            ]
          },
          "metadata": {},
          "execution_count": 151
        },
        {
          "output_type": "display_data",
          "data": {
            "image/png": "[encoded data removed]",
            "text/plain": [
              "<Figure size 432x288 with 2 Axes>"
            ]
          },
          "metadata": {
            "needs_background": "light"
          }
        }
      ]
    },
    {
      "cell_type": "markdown",
      "metadata": {
        "id": "HIHnFskWwnKT"
      },
      "source": [
        "###train size : test size = 50% : 50%"
      ]
    },
    {
      "cell_type": "code",
      "metadata": {
        "id": "JVCDHPxfwnKT"
      },
      "source": [
        "X_train, X_test, y_train, y_test = train_test_split(X, y, test_size=0.5, random_state=0)    # 50% training data, 50% testing data"
      ],
      "execution_count": null,
      "outputs": []
    },
    {
      "cell_type": "code",
      "metadata": {
        "colab": {
          "base_uri": "https://localhost:8080/"
        },
        "id": "xWEXA-t4wnKT",
        "outputId": "2218d090-cd3f-41bb-aa98-eaffcd247e28"
      },
      "source": [
        "print(len(X_train))\n",
        "print(len(y_test))"
      ],
      "execution_count": null,
      "outputs": [
        {
          "output_type": "stream",
          "name": "stdout",
          "text": [
            "89\n",
            "89\n"
          ]
        }
      ]
    },
    {
      "cell_type": "code",
      "metadata": {
        "colab": {
          "base_uri": "https://localhost:8080/"
        },
        "id": "mABmH5pUwnKU",
        "outputId": "aba6ff0f-50cf-4e0c-e092-25910d5e5e50"
      },
      "source": [
        "rfc_classifier.fit(X_train, y_train)"
      ],
      "execution_count": null,
      "outputs": [
        {
          "output_type": "execute_result",
          "data": {
            "text/plain": [
              "RandomForestClassifier(bootstrap=True, ccp_alpha=0.0, class_weight=None,\n",
              "                       criterion='gini', max_depth=None, max_features='auto',\n",
              "                       max_leaf_nodes=None, max_samples=None,\n",
              "                       min_impurity_decrease=0.0, min_impurity_split=None,\n",
              "                       min_samples_leaf=1, min_samples_split=2,\n",
              "                       min_weight_fraction_leaf=0.0, n_estimators=20,\n",
              "                       n_jobs=None, oob_score=False, random_state=None,\n",
              "                       verbose=0, warm_start=False)"
            ]
          },
          "metadata": {},
          "execution_count": 154
        }
      ]
    },
    {
      "cell_type": "code",
      "metadata": {
        "colab": {
          "base_uri": "https://localhost:8080/"
        },
        "id": "zIujZzZRwnKU",
        "outputId": "3e949a64-795b-492b-8d85-d856972bc9a7"
      },
      "source": [
        "y_pred = rfc_classifier.predict(X_test)\n",
        "print(f\"Accuracy: {100 * accuracy_score(y_test,y_pred)}%\\n\")\n",
        "cf_matrix = confusion_matrix(y_test,y_pred)\n",
        "print(\"Confusion Matrix:\")\n",
        "print(cf_matrix)\n",
        "print(\"\\nClassification Report:\\n\")\n",
        "print(classification_report(y_test,y_pred))"
      ],
      "execution_count": null,
      "outputs": [
        {
          "output_type": "stream",
          "name": "stdout",
          "text": [
            "Accuracy: 95.50561797752809%\n",
            "\n",
            "Confusion Matrix:\n",
            "[[25  0  0]\n",
            " [ 1 36  3]\n",
            " [ 0  0 24]]\n",
            "\n",
            "Classification Report:\n",
            "\n",
            "              precision    recall  f1-score   support\n",
            "\n",
            "           0       0.96      1.00      0.98        25\n",
            "           1       1.00      0.90      0.95        40\n",
            "           2       0.89      1.00      0.94        24\n",
            "\n",
            "    accuracy                           0.96        89\n",
            "   macro avg       0.95      0.97      0.96        89\n",
            "weighted avg       0.96      0.96      0.95        89\n",
            "\n"
          ]
        }
      ]
    },
    {
      "cell_type": "code",
      "metadata": {
        "colab": {
          "base_uri": "https://localhost:8080/",
          "height": 282
        },
        "id": "yoY8Ec-ewnKU",
        "outputId": "45b67968-4156-44f1-f433-37b938d5403f"
      },
      "source": [
        "sns.heatmap(cf_matrix, annot=True)"
      ],
      "execution_count": null,
      "outputs": [
        {
          "output_type": "execute_result",
          "data": {
            "text/plain": [
              "<matplotlib.axes._subplots.AxesSubplot at 0x7f5e1f9ece10>"
            ]
          },
          "metadata": {},
          "execution_count": 156
        },
        {
          "output_type": "display_data",
          "data": {
            "image/png": "[encoded data removed]",
            "text/plain": [
              "<Figure size 432x288 with 2 Axes>"
            ]
          },
          "metadata": {
            "needs_background": "light"
          }
        }
      ]
    },
    {
      "cell_type": "markdown",
      "metadata": {
        "id": "Lvq26KHYwnKV"
      },
      "source": [
        "###train size : test size = 40% : 60%"
      ]
    },
    {
      "cell_type": "code",
      "metadata": {
        "id": "Xa7mJ3K5wnKV"
      },
      "source": [
        "X_train, X_test, y_train, y_test = train_test_split(X, y, test_size=0.6, random_state=0)"
      ],
      "execution_count": null,
      "outputs": []
    },
    {
      "cell_type": "code",
      "metadata": {
        "colab": {
          "base_uri": "https://localhost:8080/"
        },
        "id": "gai-g3rFwnKV",
        "outputId": "ee0156b7-d458-4652-c17f-00d4f3f9b121"
      },
      "source": [
        "print(len(X_train))\n",
        "print(len(y_test))"
      ],
      "execution_count": null,
      "outputs": [
        {
          "output_type": "stream",
          "name": "stdout",
          "text": [
            "71\n",
            "107\n"
          ]
        }
      ]
    },
    {
      "cell_type": "code",
      "metadata": {
        "colab": {
          "base_uri": "https://localhost:8080/"
        },
        "id": "s88A7-_5wnKW",
        "outputId": "c795714d-4a55-4379-bcd0-62129dfe07ff"
      },
      "source": [
        "rfc_classifier.fit(X_train, y_train)"
      ],
      "execution_count": null,
      "outputs": [
        {
          "output_type": "execute_result",
          "data": {
            "text/plain": [
              "RandomForestClassifier(bootstrap=True, ccp_alpha=0.0, class_weight=None,\n",
              "                       criterion='gini', max_depth=None, max_features='auto',\n",
              "                       max_leaf_nodes=None, max_samples=None,\n",
              "                       min_impurity_decrease=0.0, min_impurity_split=None,\n",
              "                       min_samples_leaf=1, min_samples_split=2,\n",
              "                       min_weight_fraction_leaf=0.0, n_estimators=20,\n",
              "                       n_jobs=None, oob_score=False, random_state=None,\n",
              "                       verbose=0, warm_start=False)"
            ]
          },
          "metadata": {},
          "execution_count": 159
        }
      ]
    },
    {
      "cell_type": "code",
      "metadata": {
        "colab": {
          "base_uri": "https://localhost:8080/"
        },
        "id": "SlYWfxtNwnKW",
        "outputId": "c6a299d4-a419-46bd-e4a0-584d9f21971c"
      },
      "source": [
        "y_pred = rfc_classifier.predict(X_test)\n",
        "print(f\"Accuracy: {100 * accuracy_score(y_test,y_pred)}%\\n\")\n",
        "cf_matrix = confusion_matrix(y_test,y_pred)\n",
        "print(\"Confusion Matrix:\\n\")\n",
        "print(cf_matrix)\n",
        "print(\"\\nClassification Report:\\n\")\n",
        "print(classification_report(y_test,y_pred))"
      ],
      "execution_count": null,
      "outputs": [
        {
          "output_type": "stream",
          "name": "stdout",
          "text": [
            "Accuracy: 94.39252336448598%\n",
            "\n",
            "Confusion Matrix:\n",
            "\n",
            "[[33  1  0]\n",
            " [ 2 42  2]\n",
            " [ 0  1 26]]\n",
            "\n",
            "Classification Report:\n",
            "\n",
            "              precision    recall  f1-score   support\n",
            "\n",
            "           0       0.94      0.97      0.96        34\n",
            "           1       0.95      0.91      0.93        46\n",
            "           2       0.93      0.96      0.95        27\n",
            "\n",
            "    accuracy                           0.94       107\n",
            "   macro avg       0.94      0.95      0.95       107\n",
            "weighted avg       0.94      0.94      0.94       107\n",
            "\n"
          ]
        }
      ]
    },
    {
      "cell_type": "code",
      "metadata": {
        "colab": {
          "base_uri": "https://localhost:8080/",
          "height": 282
        },
        "id": "cPqzllU4wnKW",
        "outputId": "451963f0-b78f-4557-b751-2809ccebc507"
      },
      "source": [
        "sns.heatmap(cf_matrix, annot=True)"
      ],
      "execution_count": null,
      "outputs": [
        {
          "output_type": "execute_result",
          "data": {
            "text/plain": [
              "<matplotlib.axes._subplots.AxesSubplot at 0x7f5e1f92a690>"
            ]
          },
          "metadata": {},
          "execution_count": 161
        },
        {
          "output_type": "display_data",
          "data": {
            "image/png": "[encoded data removed]",
            "text/plain": [
              "<Figure size 432x288 with 2 Axes>"
            ]
          },
          "metadata": {
            "needs_background": "light"
          }
        }
      ]
    },
    {
      "cell_type": "markdown",
      "metadata": {
        "id": "4hnlCAb3wnKX"
      },
      "source": [
        "###train size : test size = 30% : 70%"
      ]
    },
    {
      "cell_type": "code",
      "metadata": {
        "id": "erO7gkhfwnKX"
      },
      "source": [
        "X_train, X_test, y_train, y_test = train_test_split(X, y, test_size=0.7, random_state=0)"
      ],
      "execution_count": null,
      "outputs": []
    },
    {
      "cell_type": "code",
      "metadata": {
        "colab": {
          "base_uri": "https://localhost:8080/"
        },
        "id": "ZH8m11M6wnKX",
        "outputId": "75cb4005-8fa2-4cfc-9997-917b61b5ff61"
      },
      "source": [
        "print(len(X_train))\n",
        "print(len(y_test))"
      ],
      "execution_count": null,
      "outputs": [
        {
          "output_type": "stream",
          "name": "stdout",
          "text": [
            "53\n",
            "125\n"
          ]
        }
      ]
    },
    {
      "cell_type": "code",
      "metadata": {
        "colab": {
          "base_uri": "https://localhost:8080/"
        },
        "id": "X9gSDD0mwnKX",
        "outputId": "8c318227-bdcb-450e-c2a7-0c436bbb0e37"
      },
      "source": [
        "rfc_classifier.fit(X_train, y_train)"
      ],
      "execution_count": null,
      "outputs": [
        {
          "output_type": "execute_result",
          "data": {
            "text/plain": [
              "RandomForestClassifier(bootstrap=True, ccp_alpha=0.0, class_weight=None,\n",
              "                       criterion='gini', max_depth=None, max_features='auto',\n",
              "                       max_leaf_nodes=None, max_samples=None,\n",
              "                       min_impurity_decrease=0.0, min_impurity_split=None,\n",
              "                       min_samples_leaf=1, min_samples_split=2,\n",
              "                       min_weight_fraction_leaf=0.0, n_estimators=20,\n",
              "                       n_jobs=None, oob_score=False, random_state=None,\n",
              "                       verbose=0, warm_start=False)"
            ]
          },
          "metadata": {},
          "execution_count": 164
        }
      ]
    },
    {
      "cell_type": "code",
      "metadata": {
        "colab": {
          "base_uri": "https://localhost:8080/"
        },
        "id": "eNqw7qBJwnKY",
        "outputId": "7a5ad626-f67d-42b8-bd1e-ba397a76357b"
      },
      "source": [
        "y_pred = rfc_classifier.predict(X_test)\n",
        "print(f\"Accuracy: {100 * accuracy_score(y_test,y_pred)}%\\n\")\n",
        "cf_matrix = confusion_matrix(y_test,y_pred)\n",
        "print(\"Confusion Matrix:\\n\")\n",
        "print(cf_matrix)\n",
        "print(\"\\nClassification Report:\\n\")\n",
        "print(classification_report(y_test,y_pred))"
      ],
      "execution_count": null,
      "outputs": [
        {
          "output_type": "stream",
          "name": "stdout",
          "text": [
            "Accuracy: 92.80000000000001%\n",
            "\n",
            "Confusion Matrix:\n",
            "\n",
            "[[42  0  0]\n",
            " [ 2 43  7]\n",
            " [ 0  0 31]]\n",
            "\n",
            "Classification Report:\n",
            "\n",
            "              precision    recall  f1-score   support\n",
            "\n",
            "           0       0.95      1.00      0.98        42\n",
            "           1       1.00      0.83      0.91        52\n",
            "           2       0.82      1.00      0.90        31\n",
            "\n",
            "    accuracy                           0.93       125\n",
            "   macro avg       0.92      0.94      0.93       125\n",
            "weighted avg       0.94      0.93      0.93       125\n",
            "\n"
          ]
        }
      ]
    },
    {
      "cell_type": "code",
      "metadata": {
        "colab": {
          "base_uri": "https://localhost:8080/"
        },
        "id": "9NCRZnjRwnKY",
        "outputId": "aa2cd85b-11e3-4342-a459-42144f5d736e"
      },
      "source": [
        "sns.heatmap(cf_matrix, annot=True)"
      ],
      "execution_count": null,
      "outputs": [
        {
          "output_type": "execute_result",
          "data": {
            "text/plain": [
              "<matplotlib.axes._subplots.AxesSubplot at 0x7f5e1f867f50>"
            ]
          },
          "metadata": {},
          "execution_count": 166
        },
        {
          "output_type": "display_data",
          "data": {
            "image/png": "[encoded data removed]",
            "text/plain": [
              "<Figure size 432x288 with 2 Axes>"
            ]
          },
          "metadata": {
            "needs_background": "light"
          }
        }
      ]
    }
  ]
}